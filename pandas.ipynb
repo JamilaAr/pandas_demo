{
  "cells": [
    {
      "cell_type": "markdown",
      "metadata": {},
      "source": [
        "# Table of Contents\n",
        "\n",
        "1. [Virtual Environments](#virtual-environments)\n",
        "2. [Explanation of Python Packages](#explanation-of-python-packages)\n",
        "3. [API Import](#api-import)\n",
        "4. [Importing a Local CSV File](#importing-a-local-csv-file)\n",
        "5. [Looking at Our Data](#looking-at-our-data)\n",
        "6. [Cleaning Our Data](#cleaning-our-data)\n",
        "7. [Plots](#plots)\n",
        "8. [SQL Connect](#sql-connect)\n"
      ]
    },
    {
      "cell_type": "markdown",
      "metadata": {},
      "source": [
        "## 1. Virtual Environments <a id=\"virtual-environments\"></a>\n",
        "\n",
        "A virtual environment is a tool that helps you manage and isolate different Python projects on your system. It allows you to create a self-contained environment with its own set of Python packages and dependencies. Here's a basic explanation:\n",
        "\n",
        "### Why Use Virtual Environments?\n",
        "- Isolation: Different projects may require different versions of Python libraries. Virtual environments provide isolation, ensuring that the dependencies for one project do not interfere with those of another.\n",
        "\n",
        "#### Dependency Management: \n",
        "- Virtual environments allow you to define and manage project-specific dependencies separately, avoiding conflicts with system-wide Python packages.\n",
        "\n",
        "\n",
        "#### Virutal Environment Instructions\n",
        "\n",
        "1. After you have cloned the repo to your machine, navigate to the project \n",
        "folder in GitBash/Terminal.\n",
        "1. Create a virtual environment in the project folder. `python3 -m venv venv` [^1]\n",
        "1. Activate the virtual environment. `source venv/bin/activate`\n",
        "1. Install the required packages. `pip install -r requirements.txt`\n",
        "1. When you are done working on your repo, deactivate the virtual environment. \n",
        "`deactivate`\n",
        "\n",
        "[^1]: GitBash on Windows uses “python” instead of “python3”"
      ]
    },
    {
      "cell_type": "code",
      "execution_count": 358,
      "metadata": {
        "id": "QquUHQgIdJQX"
      },
      "outputs": [],
      "source": [
        "import pandas as pd\n",
        "import numpy as np\n",
        "import requests\n",
        "import json\n",
        "import matplotlib.pyplot as plt\n",
        "from sqlite3 import connect"
      ]
    },
    {
      "cell_type": "markdown",
      "metadata": {
        "id": "pVO0dFC-eljv"
      },
      "source": [
        "# 2. Explanation of Python Packages <a id=\"explanation-of-python-packages\"></a>\n",
        "\n",
        "**Before proceeding with the examples:** please make sure you have the required Python packages installed on your local machine. If you don't have them installed, you can use the following commands to install them:\n",
        "\n",
        "`pip install pandas requests numpy seaborn pysqlite3`\n",
        " \n",
        "### pandas\n",
        "- **Purpose:** Pandas is a versatile library for data manipulation and analysis.\n",
        "- **Description:** It provides easy-to-use data structures (e.g., DataFrame) and tools for cleaning, filtering, and summarizing structured data.\n",
        "\n",
        "### requests\n",
        "- **Purpose:** The `requests` package simplifies the process of sending HTTP requests.\n",
        "- **Description:** It enables Python programs to interact with web services by making it easy to send GET, POST, and other types of HTTP requests and handle the responses.\n",
        "\n",
        "### json\n",
        "- **Purpose:** The `json` module facilitates working with JSON data.\n",
        "- **Description:** JSON is a common data interchange format, and this module allows Python programs to encode (convert to JSON) or decode (convert from JSON) data effortlessly.\n",
        "\n",
        "### numpy\n",
        "- **Purpose:** Numpy is a library for numerical operations in Python.\n",
        "- **Description:** It supports large, multi-dimensional arrays and matrices, along with mathematical functions for scientific and data-related applications.\n",
        "\n",
        "### seaborn\n",
        "- **Purpose:** Seaborn is a data visualization library built on top of Matplotlib.\n",
        "- **Description:** It simplifies the process of creating attractive and informative statistical graphics, making it easy to generate eye-catching charts and graphs with minimal code.\n",
        "\n",
        "### sqlite3\n",
        "- **Purpose:** The `sqlite3` module provides a simple way to work with SQLite databases.\n",
        "- **Description:** SQLite is a lightweight, file-based database, and the `sqlite3` module enables Python programs to connect to and interact with these databases.\n",
        "- **from sqlite3 import connect:** means that only the connect function is being imported directly into the current namespace (scope) of the Python script or module. This allows you to use connect directly in your code without having to prefix it with the module name.\n",
        "\n",
        "In summary, these packages cover a broad spectrum of tasks, from handling data to making web requests, working with numerical data, creating visualizations, and interacting with databases. Using these packages can significantly enhance your ability to accomplish various programming tasks without having to write everything from scratch.\n"
      ]
    },
    {
      "cell_type": "markdown",
      "metadata": {
        "id": "KtwBQYp4f3AN"
      },
      "source": [
        "# 3. API Import <a id=\"api-import\"></a>\n",
        "In this example, we efficiently retrieve and import data into a DataFrame through a systematic pagination approach. This method ensures that we retrieve the data in manageable chunks, optimizing the process of populating our DataFrame.\n",
        "\n",
        "Documentation Link: [https://rickandmortyapi.com/documentation/](https://rickandmortyapi.com/documentation/)\n"
      ]
    },
    {
      "cell_type": "code",
      "execution_count": 359,
      "metadata": {
        "id": "WMreH6gMdUqk"
      },
      "outputs": [],
      "source": [
        "# url = \"https://rickandmortyapi.com/api/character\" \n",
        "# results = []\n",
        "# page = 1\n",
        "\n",
        "# while True:\n",
        "#     response = requests.get(f'{url}?page={page}')\n",
        "#     data = response.json()\n",
        "\n",
        "#     if 'results' in data and len(data['results']) > 0:\n",
        "#         results.extend(data['results'])\n",
        "#         page += 1\n",
        "#     else:\n",
        "#         break\n",
        "# # This makes out results list a dataframe\n",
        "# df = pd.DataFrame(results)\n",
        "# # This saves the csv file locally \n",
        "# df.to_csv('student-data.csv')"
      ]
    },
    {
      "cell_type": "markdown",
      "metadata": {
        "id": "VumFt8D4gyE7"
      },
      "source": [
        "### Explaining API calls high level\n",
        "\n",
        "Imagine you have a big box of toys, and these toys are characters from a show called \"Rick and Morty.\" But there are so many characters that you can't see them all at once.\n",
        "\n",
        "Now, you want to organize these toys, but looking at all of them together is too much. So,you decide to look at a few toys at a time, like flipping through pages in a book. Each time you flip a page, you see a group of characters.\n",
        "\n",
        "In the computer world, this is similar. The characters are stored on the internet, and you have a special tool (a program) that helps you bring a few characters at a time (a page) and puts them in a list (results). Then, you look at the next page, and the next, until you have all the characters.\n",
        "\n",
        "Finally, you take all the characters you collected and put them in a neat table (DataFrame) so you can easily see and play with them. Now you have a list of all the characters from the \"Rick and Morty\" show!\n"
      ]
    },
    {
      "cell_type": "markdown",
      "metadata": {
        "id": "INpsiLAbhRu6"
      },
      "source": [
        "# 4. Importing a Local CSV File <a id=\"importing-a-local-csv-file\"></a>"
      ]
    },
    {
      "cell_type": "code",
      "execution_count": 360,
      "metadata": {
        "id": "G2vaKeOIf0z3"
      },
      "outputs": [],
      "source": [
        "# Here we are importing the saved csv from above. \n",
        "df = pd.read_csv('student-data.csv')"
      ]
    },
    {
      "cell_type": "code",
      "execution_count": 361,
      "metadata": {},
      "outputs": [
        {
          "name": "stdout",
          "output_type": "stream",
          "text": [
            "  school sex  age address famsize Pstatus  Medu  Fedu     Mjob      Fjob  ...  \\\n",
            "0     GP   F   18       U     GT3       A     4     4  at_home   teacher  ...   \n",
            "1     GP   F   17       U     GT3       T     1     1  at_home     other  ...   \n",
            "2     GP   F   15       U     LE3       T     1     1  at_home     other  ...   \n",
            "3     GP   F   15       U     GT3       T     4     2   health  services  ...   \n",
            "4     GP   F   16       U     GT3       T     3     3    other     other  ...   \n",
            "\n",
            "  internet romantic  famrel  freetime  goout Dalc Walc health absences passed  \n",
            "0       no       no       4         3      4    1    1      3        6     no  \n",
            "1      yes       no       5         3      3    1    1      3        4     no  \n",
            "2      yes       no       4         3      2    2    3      3       10    yes  \n",
            "3      yes      yes       3         2      2    1    1      5        2    yes  \n",
            "4       no       no       4         3      2    1    2      5        4    yes  \n",
            "\n",
            "[5 rows x 31 columns]\n"
          ]
        }
      ],
      "source": [
        "# Reading the CSV file from your local directory\n",
        "df = pd.read_csv('student-data.csv')\n",
        "\n",
        "# Display the first few rows to verify\n",
        "print(df.head())"
      ]
    },
    {
      "cell_type": "markdown",
      "metadata": {
        "id": "nmA3ZqWxi5yy"
      },
      "source": [
        "#### Understanding `pd.read_csv('rick_n_morty.csv')`\n",
        "\n",
        "- In the programming world, there's a way to store and organize data neatly in files. A CSV file is one such format, acting like a table with rows and columns.\n",
        "\n",
        "- When you see `pd.read_csv('rick_n_morty.csv')`, it's a command in Python using the Pandas library. It tells the computer to open a file named 'rick_n_morty.csv' that contains organized data.\n",
        "\n",
        "- Pandas reads this file, structures the data, and creates a table-like structure called a DataFrame. This DataFrame allows you to manipulate and analyze the information conveniently. Essentially, you're loading data from a file to explore and work with it using Python.\n"
      ]
    },
    {
      "cell_type": "markdown",
      "metadata": {
        "id": "JLb3fciAki3N"
      },
      "source": [
        "# 5. Looking at Our Data <a id=\"looking-at-our-data\"></a>"
      ]
    },
    {
      "cell_type": "markdown",
      "metadata": {
        "id": "g8gJ9wojlFGF"
      },
      "source": [
        "### `df.head(2)`\n",
        "\n",
        "The `df.head(2)` method is used to display the first few rows of the DataFrame. It provides a quick overview of the dataset, allowing you to inspect the initial rows to understand the structure and format of the data. This is particularly useful for assessing data types, spotting any missing values, and getting a sense of the data's overall content."
      ]
    },
    {
      "cell_type": "code",
      "execution_count": 362,
      "metadata": {
        "colab": {
          "base_uri": "https://localhost:8080/",
          "height": 271
        },
        "id": "fJkQbllhkiGA",
        "outputId": "a8ce6d18-d947-4b50-cc0a-7fdf70456285"
      },
      "outputs": [
        {
          "data": {
            "text/html": [
              "<div>\n",
              "<style scoped>\n",
              "    .dataframe tbody tr th:only-of-type {\n",
              "        vertical-align: middle;\n",
              "    }\n",
              "\n",
              "    .dataframe tbody tr th {\n",
              "        vertical-align: top;\n",
              "    }\n",
              "\n",
              "    .dataframe thead th {\n",
              "        text-align: right;\n",
              "    }\n",
              "</style>\n",
              "<table border=\"1\" class=\"dataframe\">\n",
              "  <thead>\n",
              "    <tr style=\"text-align: right;\">\n",
              "      <th></th>\n",
              "      <th>school</th>\n",
              "      <th>sex</th>\n",
              "      <th>age</th>\n",
              "      <th>address</th>\n",
              "      <th>famsize</th>\n",
              "      <th>Pstatus</th>\n",
              "      <th>Medu</th>\n",
              "      <th>Fedu</th>\n",
              "      <th>Mjob</th>\n",
              "      <th>Fjob</th>\n",
              "      <th>...</th>\n",
              "      <th>internet</th>\n",
              "      <th>romantic</th>\n",
              "      <th>famrel</th>\n",
              "      <th>freetime</th>\n",
              "      <th>goout</th>\n",
              "      <th>Dalc</th>\n",
              "      <th>Walc</th>\n",
              "      <th>health</th>\n",
              "      <th>absences</th>\n",
              "      <th>passed</th>\n",
              "    </tr>\n",
              "  </thead>\n",
              "  <tbody>\n",
              "    <tr>\n",
              "      <th>0</th>\n",
              "      <td>GP</td>\n",
              "      <td>F</td>\n",
              "      <td>18</td>\n",
              "      <td>U</td>\n",
              "      <td>GT3</td>\n",
              "      <td>A</td>\n",
              "      <td>4</td>\n",
              "      <td>4</td>\n",
              "      <td>at_home</td>\n",
              "      <td>teacher</td>\n",
              "      <td>...</td>\n",
              "      <td>no</td>\n",
              "      <td>no</td>\n",
              "      <td>4</td>\n",
              "      <td>3</td>\n",
              "      <td>4</td>\n",
              "      <td>1</td>\n",
              "      <td>1</td>\n",
              "      <td>3</td>\n",
              "      <td>6</td>\n",
              "      <td>no</td>\n",
              "    </tr>\n",
              "    <tr>\n",
              "      <th>1</th>\n",
              "      <td>GP</td>\n",
              "      <td>F</td>\n",
              "      <td>17</td>\n",
              "      <td>U</td>\n",
              "      <td>GT3</td>\n",
              "      <td>T</td>\n",
              "      <td>1</td>\n",
              "      <td>1</td>\n",
              "      <td>at_home</td>\n",
              "      <td>other</td>\n",
              "      <td>...</td>\n",
              "      <td>yes</td>\n",
              "      <td>no</td>\n",
              "      <td>5</td>\n",
              "      <td>3</td>\n",
              "      <td>3</td>\n",
              "      <td>1</td>\n",
              "      <td>1</td>\n",
              "      <td>3</td>\n",
              "      <td>4</td>\n",
              "      <td>no</td>\n",
              "    </tr>\n",
              "  </tbody>\n",
              "</table>\n",
              "<p>2 rows × 31 columns</p>\n",
              "</div>"
            ],
            "text/plain": [
              "  school sex  age address famsize Pstatus  Medu  Fedu     Mjob     Fjob  ...  \\\n",
              "0     GP   F   18       U     GT3       A     4     4  at_home  teacher  ...   \n",
              "1     GP   F   17       U     GT3       T     1     1  at_home    other  ...   \n",
              "\n",
              "  internet romantic  famrel  freetime  goout Dalc Walc health absences passed  \n",
              "0       no       no       4         3      4    1    1      3        6     no  \n",
              "1      yes       no       5         3      3    1    1      3        4     no  \n",
              "\n",
              "[2 rows x 31 columns]"
            ]
          },
          "execution_count": 362,
          "metadata": {},
          "output_type": "execute_result"
        }
      ],
      "source": [
        "df.head(2)"
      ]
    },
    {
      "cell_type": "markdown",
      "metadata": {},
      "source": [
        "### `df.tail(2)`\n",
        "\n",
        "Similar to `df.head(2)`, the `df.tail(2)` method displays the last few rows of the DataFrame. This is useful for checking the end of the dataset, especially when dealing with time-series data or datasets sorted in a particular order. It can help ensure data integrity and reveal any unexpected patterns or outliers at the end of the dataset."
      ]
    },
    {
      "cell_type": "code",
      "execution_count": 363,
      "metadata": {
        "colab": {
          "base_uri": "https://localhost:8080/",
          "height": 271
        },
        "id": "VpMvztMElIe-",
        "outputId": "8fac71d7-b8cf-4c3d-b2ff-66cd66d45db0"
      },
      "outputs": [
        {
          "data": {
            "text/html": [
              "<div>\n",
              "<style scoped>\n",
              "    .dataframe tbody tr th:only-of-type {\n",
              "        vertical-align: middle;\n",
              "    }\n",
              "\n",
              "    .dataframe tbody tr th {\n",
              "        vertical-align: top;\n",
              "    }\n",
              "\n",
              "    .dataframe thead th {\n",
              "        text-align: right;\n",
              "    }\n",
              "</style>\n",
              "<table border=\"1\" class=\"dataframe\">\n",
              "  <thead>\n",
              "    <tr style=\"text-align: right;\">\n",
              "      <th></th>\n",
              "      <th>school</th>\n",
              "      <th>sex</th>\n",
              "      <th>age</th>\n",
              "      <th>address</th>\n",
              "      <th>famsize</th>\n",
              "      <th>Pstatus</th>\n",
              "      <th>Medu</th>\n",
              "      <th>Fedu</th>\n",
              "      <th>Mjob</th>\n",
              "      <th>Fjob</th>\n",
              "      <th>...</th>\n",
              "      <th>internet</th>\n",
              "      <th>romantic</th>\n",
              "      <th>famrel</th>\n",
              "      <th>freetime</th>\n",
              "      <th>goout</th>\n",
              "      <th>Dalc</th>\n",
              "      <th>Walc</th>\n",
              "      <th>health</th>\n",
              "      <th>absences</th>\n",
              "      <th>passed</th>\n",
              "    </tr>\n",
              "  </thead>\n",
              "  <tbody>\n",
              "    <tr>\n",
              "      <th>393</th>\n",
              "      <td>MS</td>\n",
              "      <td>M</td>\n",
              "      <td>18</td>\n",
              "      <td>R</td>\n",
              "      <td>LE3</td>\n",
              "      <td>T</td>\n",
              "      <td>3</td>\n",
              "      <td>2</td>\n",
              "      <td>services</td>\n",
              "      <td>other</td>\n",
              "      <td>...</td>\n",
              "      <td>yes</td>\n",
              "      <td>no</td>\n",
              "      <td>4</td>\n",
              "      <td>4</td>\n",
              "      <td>1</td>\n",
              "      <td>3</td>\n",
              "      <td>4</td>\n",
              "      <td>5</td>\n",
              "      <td>0</td>\n",
              "      <td>yes</td>\n",
              "    </tr>\n",
              "    <tr>\n",
              "      <th>394</th>\n",
              "      <td>MS</td>\n",
              "      <td>M</td>\n",
              "      <td>19</td>\n",
              "      <td>U</td>\n",
              "      <td>LE3</td>\n",
              "      <td>T</td>\n",
              "      <td>1</td>\n",
              "      <td>1</td>\n",
              "      <td>other</td>\n",
              "      <td>at_home</td>\n",
              "      <td>...</td>\n",
              "      <td>yes</td>\n",
              "      <td>no</td>\n",
              "      <td>3</td>\n",
              "      <td>2</td>\n",
              "      <td>3</td>\n",
              "      <td>3</td>\n",
              "      <td>3</td>\n",
              "      <td>5</td>\n",
              "      <td>5</td>\n",
              "      <td>no</td>\n",
              "    </tr>\n",
              "  </tbody>\n",
              "</table>\n",
              "<p>2 rows × 31 columns</p>\n",
              "</div>"
            ],
            "text/plain": [
              "    school sex  age address famsize Pstatus  Medu  Fedu      Mjob     Fjob  \\\n",
              "393     MS   M   18       R     LE3       T     3     2  services    other   \n",
              "394     MS   M   19       U     LE3       T     1     1     other  at_home   \n",
              "\n",
              "     ... internet romantic  famrel  freetime  goout Dalc Walc health absences  \\\n",
              "393  ...      yes       no       4         4      1    3    4      5        0   \n",
              "394  ...      yes       no       3         2      3    3    3      5        5   \n",
              "\n",
              "    passed  \n",
              "393    yes  \n",
              "394     no  \n",
              "\n",
              "[2 rows x 31 columns]"
            ]
          },
          "execution_count": 363,
          "metadata": {},
          "output_type": "execute_result"
        }
      ],
      "source": [
        "df.tail(2)"
      ]
    },
    {
      "cell_type": "markdown",
      "metadata": {
        "id": "0MRSKSd7lXen"
      },
      "source": [
        "### `df.columns`\n",
        "\n",
        "The `df.columns` attribute returns the column labels of the DataFrame. Knowing the column names is crucial for referencing and manipulating specific columns during data analysis. It allows you to identify the variables present in the dataset and understand the information they contain."
      ]
    },
    {
      "cell_type": "code",
      "execution_count": 364,
      "metadata": {
        "colab": {
          "base_uri": "https://localhost:8080/"
        },
        "id": "-iJx_Cbpk1Cx",
        "outputId": "ce7dcf6c-7b4a-4a02-8e52-948915b236c0"
      },
      "outputs": [
        {
          "data": {
            "text/plain": [
              "Index(['school', 'sex', 'age', 'address', 'famsize', 'Pstatus', 'Medu', 'Fedu',\n",
              "       'Mjob', 'Fjob', 'reason', 'guardian', 'traveltime', 'studytime',\n",
              "       'failures', 'schoolsup', 'famsup', 'paid', 'activities', 'nursery',\n",
              "       'higher', 'internet', 'romantic', 'famrel', 'freetime', 'goout', 'Dalc',\n",
              "       'Walc', 'health', 'absences', 'passed'],\n",
              "      dtype='object')"
            ]
          },
          "execution_count": 364,
          "metadata": {},
          "output_type": "execute_result"
        }
      ],
      "source": [
        "df.columns"
      ]
    },
    {
      "cell_type": "markdown",
      "metadata": {
        "id": "_EtwPp2HldyO"
      },
      "source": [
        "### `df.shape`\n",
        "\n",
        "The `df.shape` attribute returns a tuple representing the dimensions of the DataFrame, i.e., the number of rows and columns. This information is essential for understanding the size of the dataset, which can impact the choice of analysis techniques and help manage memory efficiently."
      ]
    },
    {
      "cell_type": "code",
      "execution_count": 365,
      "metadata": {
        "colab": {
          "base_uri": "https://localhost:8080/"
        },
        "id": "fxHeLo6Ck3-v",
        "outputId": "07276a20-0016-4889-9d81-b4a01672e6bd"
      },
      "outputs": [
        {
          "data": {
            "text/plain": [
              "(395, 31)"
            ]
          },
          "execution_count": 365,
          "metadata": {},
          "output_type": "execute_result"
        }
      ],
      "source": [
        "df.shape"
      ]
    },
    {
      "cell_type": "markdown",
      "metadata": {
        "id": "6X10SivClxF5"
      },
      "source": [
        "### `df.info()`\n",
        "\n",
        "The `df.info()` method provides a concise summary of the DataFrame's structure, including the data types, non-null values, and memory usage. It is crucial for identifying potential issues such as missing data, ensuring that data types are interpreted correctly, and assessing the overall health of the dataset."
      ]
    },
    {
      "cell_type": "code",
      "execution_count": 366,
      "metadata": {
        "colab": {
          "base_uri": "https://localhost:8080/"
        },
        "id": "5tTZiaPTk9lF",
        "outputId": "de9f9d0e-0d97-4186-f50a-47567527ad27"
      },
      "outputs": [
        {
          "name": "stdout",
          "output_type": "stream",
          "text": [
            "<class 'pandas.core.frame.DataFrame'>\n",
            "RangeIndex: 395 entries, 0 to 394\n",
            "Data columns (total 31 columns):\n",
            " #   Column      Non-Null Count  Dtype \n",
            "---  ------      --------------  ----- \n",
            " 0   school      395 non-null    object\n",
            " 1   sex         395 non-null    object\n",
            " 2   age         395 non-null    int64 \n",
            " 3   address     395 non-null    object\n",
            " 4   famsize     395 non-null    object\n",
            " 5   Pstatus     395 non-null    object\n",
            " 6   Medu        395 non-null    int64 \n",
            " 7   Fedu        395 non-null    int64 \n",
            " 8   Mjob        395 non-null    object\n",
            " 9   Fjob        395 non-null    object\n",
            " 10  reason      395 non-null    object\n",
            " 11  guardian    395 non-null    object\n",
            " 12  traveltime  395 non-null    int64 \n",
            " 13  studytime   395 non-null    int64 \n",
            " 14  failures    395 non-null    int64 \n",
            " 15  schoolsup   395 non-null    object\n",
            " 16  famsup      395 non-null    object\n",
            " 17  paid        395 non-null    object\n",
            " 18  activities  395 non-null    object\n",
            " 19  nursery     395 non-null    object\n",
            " 20  higher      395 non-null    object\n",
            " 21  internet    395 non-null    object\n",
            " 22  romantic    395 non-null    object\n",
            " 23  famrel      395 non-null    int64 \n",
            " 24  freetime    395 non-null    int64 \n",
            " 25  goout       395 non-null    int64 \n",
            " 26  Dalc        395 non-null    int64 \n",
            " 27  Walc        395 non-null    int64 \n",
            " 28  health      395 non-null    int64 \n",
            " 29  absences    395 non-null    int64 \n",
            " 30  passed      395 non-null    object\n",
            "dtypes: int64(13), object(18)\n",
            "memory usage: 95.8+ KB\n"
          ]
        }
      ],
      "source": [
        "df.info()"
      ]
    },
    {
      "cell_type": "markdown",
      "metadata": {},
      "source": [
        "In summary, these operations are fundamental for initial exploratory data analysis (EDA). They help analysts and data scientists gain insights into the structure, content, and quality of the data, setting the foundation for more in-depth analysis and informed decision-making.\n"
      ]
    },
    {
      "cell_type": "markdown",
      "metadata": {
        "id": "X52h-IsUl4mm"
      },
      "source": [
        "# 6. Cleaning Our Data <a id=\"cleaning-our-data\"></a>"
      ]
    },
    {
      "cell_type": "markdown",
      "metadata": {
        "id": "DWPfyCDZmJFh"
      },
      "source": [
        "## Dropping Columns\n"
      ]
    },
    {
      "cell_type": "code",
      "execution_count": 367,
      "metadata": {
        "colab": {
          "base_uri": "https://localhost:8080/",
          "height": 112
        },
        "id": "jNfEeTG8l-E4",
        "outputId": "792c7e63-b8dc-4c35-c697-af4ddb4682eb"
      },
      "outputs": [
        {
          "data": {
            "text/html": [
              "<div>\n",
              "<style scoped>\n",
              "    .dataframe tbody tr th:only-of-type {\n",
              "        vertical-align: middle;\n",
              "    }\n",
              "\n",
              "    .dataframe tbody tr th {\n",
              "        vertical-align: top;\n",
              "    }\n",
              "\n",
              "    .dataframe thead th {\n",
              "        text-align: right;\n",
              "    }\n",
              "</style>\n",
              "<table border=\"1\" class=\"dataframe\">\n",
              "  <thead>\n",
              "    <tr style=\"text-align: right;\">\n",
              "      <th></th>\n",
              "      <th>school</th>\n",
              "      <th>sex</th>\n",
              "      <th>age</th>\n",
              "      <th>address</th>\n",
              "      <th>famsize</th>\n",
              "      <th>Pstatus</th>\n",
              "      <th>Medu</th>\n",
              "      <th>Fedu</th>\n",
              "      <th>Mjob</th>\n",
              "      <th>Fjob</th>\n",
              "      <th>...</th>\n",
              "      <th>paid</th>\n",
              "      <th>activities</th>\n",
              "      <th>nursery</th>\n",
              "      <th>freetime</th>\n",
              "      <th>goout</th>\n",
              "      <th>Dalc</th>\n",
              "      <th>Walc</th>\n",
              "      <th>health</th>\n",
              "      <th>absences</th>\n",
              "      <th>passed</th>\n",
              "    </tr>\n",
              "  </thead>\n",
              "  <tbody>\n",
              "    <tr>\n",
              "      <th>0</th>\n",
              "      <td>GP</td>\n",
              "      <td>F</td>\n",
              "      <td>18</td>\n",
              "      <td>U</td>\n",
              "      <td>GT3</td>\n",
              "      <td>A</td>\n",
              "      <td>4</td>\n",
              "      <td>4</td>\n",
              "      <td>at_home</td>\n",
              "      <td>teacher</td>\n",
              "      <td>...</td>\n",
              "      <td>no</td>\n",
              "      <td>no</td>\n",
              "      <td>yes</td>\n",
              "      <td>3</td>\n",
              "      <td>4</td>\n",
              "      <td>1</td>\n",
              "      <td>1</td>\n",
              "      <td>3</td>\n",
              "      <td>6</td>\n",
              "      <td>no</td>\n",
              "    </tr>\n",
              "    <tr>\n",
              "      <th>1</th>\n",
              "      <td>GP</td>\n",
              "      <td>F</td>\n",
              "      <td>17</td>\n",
              "      <td>U</td>\n",
              "      <td>GT3</td>\n",
              "      <td>T</td>\n",
              "      <td>1</td>\n",
              "      <td>1</td>\n",
              "      <td>at_home</td>\n",
              "      <td>other</td>\n",
              "      <td>...</td>\n",
              "      <td>no</td>\n",
              "      <td>no</td>\n",
              "      <td>no</td>\n",
              "      <td>3</td>\n",
              "      <td>3</td>\n",
              "      <td>1</td>\n",
              "      <td>1</td>\n",
              "      <td>3</td>\n",
              "      <td>4</td>\n",
              "      <td>no</td>\n",
              "    </tr>\n",
              "  </tbody>\n",
              "</table>\n",
              "<p>2 rows × 27 columns</p>\n",
              "</div>"
            ],
            "text/plain": [
              "  school sex  age address famsize Pstatus  Medu  Fedu     Mjob     Fjob  ...  \\\n",
              "0     GP   F   18       U     GT3       A     4     4  at_home  teacher  ...   \n",
              "1     GP   F   17       U     GT3       T     1     1  at_home    other  ...   \n",
              "\n",
              "  paid activities  nursery  freetime  goout Dalc Walc health absences passed  \n",
              "0   no         no      yes         3      4    1    1      3        6     no  \n",
              "1   no         no       no         3      3    1    1      3        4     no  \n",
              "\n",
              "[2 rows x 27 columns]"
            ]
          },
          "execution_count": 367,
          "metadata": {},
          "output_type": "execute_result"
        }
      ],
      "source": [
        "# List of columns to drop\n",
        "columns_to_drop = ['higher', 'internet', 'romantic', 'famrel']\n",
        "\n",
        "# Drop the specified columns\n",
        "df = df.drop(columns=columns_to_drop)\n",
        "\n",
        "df.head(2)\n"
      ]
    },
    {
      "cell_type": "markdown",
      "metadata": {},
      "source": [
        "## Importance of Dropping Columns\n",
        "### 1. **Reducing Redundancy:**\n",
        "\n",
        "   - **Explanation:**\n",
        "     - Unneeded columns often contain redundant or duplicate information that does not contribute to the analysis or modeling process.\n",
        "\n",
        "   - **Importance:**\n",
        "     - Removing redundant columns reduces unnecessary data storage and computational overhead. It simplifies the dataset and makes it more efficient to work with.\n",
        "\n",
        "### 2. **Improving Model Performance:**\n",
        "\n",
        "   - **Explanation:**\n",
        "     - Unnecessary columns can introduce noise and complexity to predictive models, potentially degrading their performance.\n",
        "\n",
        "   - **Importance:**\n",
        "     - Simplifying the dataset by dropping irrelevant columns can improve model accuracy, reduce overfitting, and lead to better generalization on new, unseen data.\n",
        "\n",
        "### 3. **Enhancing Interpretability:**\n",
        "\n",
        "   - **Explanation:**\n",
        "     - Unneeded columns may clutter the dataset and make it more challenging to interpret and understand.\n",
        "\n",
        "   - **Importance:**\n",
        "     - A clean and focused dataset with only relevant columns improves the interpretability of the data. This is crucial for effective communication of findings and insights.\n"
      ]
    },
    {
      "cell_type": "markdown",
      "metadata": {
        "id": "oFQELe6PnBUM"
      },
      "source": [
        "### Converting created column to date time"
      ]
    },
    {
      "cell_type": "code",
      "execution_count": 368,
      "metadata": {
        "id": "I1PKpx-wnHEZ"
      },
      "outputs": [],
      "source": [
        "df['studytime'] = pd.to_datetime(df['studytime'])"
      ]
    },
    {
      "cell_type": "markdown",
      "metadata": {},
      "source": [
        "### Importance of Converting a Date Column to DateTime\n",
        "\n",
        "1. **Time-Based Analysis:**\n",
        "   - *Explanation:* Conversion enables time-based analysis, allowing for trend identification, temporal comparisons, and aggregations over specific intervals.\n",
        "   - *Importance:* It provides essential insights into time-dependent patterns, crucial for industries like finance, sales, and operations.\n",
        "\n",
        "2. **Data Consistency and Sorting:**\n",
        "   - *Explanation:* Datetime conversion ensures standardized formats, promoting consistent representation. This simplifies sorting, filtering, and prevents issues related to mixed date formats.\n",
        "   - *Importance:* Consistent date formats improve data integrity and simplify time-ordered dataset handling.\n",
        "\n",
        "3. **Date Arithmetic and Calculations:**\n",
        "   - *Explanation:* Datetime objects support arithmetic operations, facilitating accurate date calculations, such as differences, additions, and subtractions.\n",
        "   - *Importance:* It enables precise and efficient date-related calculations, essential for tasks like forecasting, duration calculations, and creating time-based features.\n"
      ]
    },
    {
      "cell_type": "markdown",
      "metadata": {
        "id": "CosRyYaanRHH"
      },
      "source": [
        "### Lets convert gender to a category"
      ]
    },
    {
      "cell_type": "code",
      "execution_count": 369,
      "metadata": {
        "colab": {
          "base_uri": "https://localhost:8080/"
        },
        "id": "BaIMkVTXnKkm",
        "outputId": "2f117c66-c448-403a-bdd6-2145f05e5ac2"
      },
      "outputs": [],
      "source": [
        "df['sex'] = df['sex'].astype('category')"
      ]
    },
    {
      "cell_type": "markdown",
      "metadata": {},
      "source": [
        "### Converting a Gender Column to Category\n",
        "\n",
        "1. **Memory Efficiency:**\n",
        "   - *Explanation:* Converting gender to a category saves memory, making data operations faster and more resource-friendly, especially in large datasets.\n",
        "\n",
        "2. **Analysis and Visualization:**\n",
        "   - *Explanation:* Categories simplify gender-related analysis and visualizations, providing a clear and organized way to represent and interpret data.\n",
        "\n",
        "3. **Standardization and Consistency:**\n",
        "   - *Explanation:* Converting to a category ensures consistent gender labels, reducing errors and making it easier to handle and analyze data accurately.\n",
        "\n",
        "In essence, converting the gender column to a category streamlines data management, supports efficient analysis, and ensures a standardized representation for improved data quality.\n"
      ]
    },
    {
      "cell_type": "code",
      "execution_count": 370,
      "metadata": {},
      "outputs": [
        {
          "name": "stdout",
          "output_type": "stream",
          "text": [
            "<class 'pandas.core.frame.DataFrame'>\n",
            "RangeIndex: 395 entries, 0 to 394\n",
            "Data columns (total 27 columns):\n",
            " #   Column      Non-Null Count  Dtype         \n",
            "---  ------      --------------  -----         \n",
            " 0   school      395 non-null    object        \n",
            " 1   sex         395 non-null    category      \n",
            " 2   age         395 non-null    int64         \n",
            " 3   address     395 non-null    object        \n",
            " 4   famsize     395 non-null    object        \n",
            " 5   Pstatus     395 non-null    object        \n",
            " 6   Medu        395 non-null    int64         \n",
            " 7   Fedu        395 non-null    int64         \n",
            " 8   Mjob        395 non-null    object        \n",
            " 9   Fjob        395 non-null    object        \n",
            " 10  reason      395 non-null    object        \n",
            " 11  guardian    395 non-null    object        \n",
            " 12  traveltime  395 non-null    int64         \n",
            " 13  studytime   395 non-null    datetime64[ns]\n",
            " 14  failures    395 non-null    int64         \n",
            " 15  schoolsup   395 non-null    object        \n",
            " 16  famsup      395 non-null    object        \n",
            " 17  paid        395 non-null    object        \n",
            " 18  activities  395 non-null    object        \n",
            " 19  nursery     395 non-null    object        \n",
            " 20  freetime    395 non-null    int64         \n",
            " 21  goout       395 non-null    int64         \n",
            " 22  Dalc        395 non-null    int64         \n",
            " 23  Walc        395 non-null    int64         \n",
            " 24  health      395 non-null    int64         \n",
            " 25  absences    395 non-null    int64         \n",
            " 26  passed      395 non-null    object        \n",
            "dtypes: category(1), datetime64[ns](1), int64(11), object(14)\n",
            "memory usage: 80.9+ KB\n"
          ]
        }
      ],
      "source": [
        "df.info()"
      ]
    },
    {
      "cell_type": "markdown",
      "metadata": {},
      "source": [
        "In the output of `df.info()`, observe the changes in data types. The \"gender\" column, which was originally a object, now appears as 'category', indicating a successful conversion. Similarly, the \"created\" column, which was previously a object as well, now appears as 'datetime64[ns, UTC]', reflecting the successful conversion to datetime.\n",
        "\n",
        "This usage of `df.info()` after the conversions provides a concise summary of the DataFrame's data types, showcasing the transformations made to the \"gender\" and \"created\" columns.\n"
      ]
    },
    {
      "cell_type": "markdown",
      "metadata": {
        "id": "TfRWGSK8ocDr"
      },
      "source": [
        "# 7. Plots <a id=\"plots\"></a>"
      ]
    },
    {
      "cell_type": "markdown",
      "metadata": {
        "id": "qO6jTUYnqjpv"
      },
      "source": [
        "### Quick pandas plot "
      ]
    },
    {
      "cell_type": "code",
      "execution_count": 371,
      "metadata": {
        "colab": {
          "base_uri": "https://localhost:8080/",
          "height": 406
        },
        "id": "2fbhtgj_oePy",
        "outputId": "f087c852-0f1f-4c35-d9bf-584dd29b738a"
      },
      "outputs": [
        {
          "data": {
            "image/png": "[encoded data removed]",
            "text/plain": [
              "<Figure size 640x480 with 1 Axes>"
            ]
          },
          "metadata": {},
          "output_type": "display_data"
        }
      ],
      "source": [
        "df['sex'].value_counts().plot.pie();"
      ]
    },
    {
      "cell_type": "code",
      "execution_count": 372,
      "metadata": {},
      "outputs": [],
      "source": [
        "# Count the number of males and females\n",
        "gender_counts = df['sex'].value_counts()"
      ]
    },
    {
      "cell_type": "markdown",
      "metadata": {},
      "source": [
        "When utilizing `df['gender'].value_counts().plot.pie()`, you are creating a pie chart to visualize the distribution of gender values in the DataFrame. Let's break down why this is useful:\n",
        "\n",
        "- **Insight into Categorical Distribution:**\n",
        "  - *Explanation:* The `value_counts()` method counts the occurrences of each unique value in the 'gender' column, providing a clear distribution of categorical data.\n",
        "  - *Importance:* The resulting pie chart visually represents the relative proportions of each gender category, offering a quick and intuitive understanding of the data's categorical distribution.\n",
        "\n",
        "- **Quick Exploration of Data Patterns:**\n",
        "  - *Explanation:* A pie chart is effective for gaining insights into the overall patterns and proportions of categorical variables. It is particularly useful when dealing with a small number of categories.\n",
        "  - *Importance:* Rapid visual exploration allows for the identification of dominant categories and provides a snapshot of the data's composition.\n",
        "\n",
        "- **Communication of Findings:**\n",
        "  - *Explanation:* The simplicity of a pie chart makes it suitable for communicating categorical distributions to a broader audience, such as stakeholders or team members.\n",
        "  - *Importance:* It facilitates clear and straightforward communication of gender distribution patterns without the need for complex visualizations, enhancing the accessibility of data insights.\n",
        "\n",
        "In summary, using `df['gender'].value_counts().plot.pie()` is a concise and effective way to visually represent the distribution of categorical data, offering insights into the proportions and patterns within the 'gender' column.\n"
      ]
    },
    {
      "cell_type": "markdown",
      "metadata": {
        "id": "vM1r9TQyqsKg"
      },
      "source": [
        "### matplotlib plot of the number of characters created in a month"
      ]
    },
    {
      "cell_type": "code",
      "execution_count": 373,
      "metadata": {
        "colab": {
          "base_uri": "https://localhost:8080/",
          "height": 146
        },
        "id": "7qS18XtLpq3X",
        "outputId": "4e6372de-a9e6-41dd-c9a9-e3061362ff2b"
      },
      "outputs": [
        {
          "data": {
            "text/html": [
              "<div>\n",
              "<style scoped>\n",
              "    .dataframe tbody tr th:only-of-type {\n",
              "        vertical-align: middle;\n",
              "    }\n",
              "\n",
              "    .dataframe tbody tr th {\n",
              "        vertical-align: top;\n",
              "    }\n",
              "\n",
              "    .dataframe thead th {\n",
              "        text-align: right;\n",
              "    }\n",
              "</style>\n",
              "<table border=\"1\" class=\"dataframe\">\n",
              "  <thead>\n",
              "    <tr style=\"text-align: right;\">\n",
              "      <th></th>\n",
              "      <th>school</th>\n",
              "      <th>sex</th>\n",
              "      <th>age</th>\n",
              "      <th>address</th>\n",
              "      <th>famsize</th>\n",
              "      <th>Pstatus</th>\n",
              "      <th>Medu</th>\n",
              "      <th>Fedu</th>\n",
              "      <th>Mjob</th>\n",
              "      <th>Fjob</th>\n",
              "      <th>...</th>\n",
              "      <th>nursery</th>\n",
              "      <th>freetime</th>\n",
              "      <th>goout</th>\n",
              "      <th>Dalc</th>\n",
              "      <th>Walc</th>\n",
              "      <th>health</th>\n",
              "      <th>absences</th>\n",
              "      <th>passed</th>\n",
              "      <th>creation_date</th>\n",
              "      <th>creation_month</th>\n",
              "    </tr>\n",
              "  </thead>\n",
              "  <tbody>\n",
              "    <tr>\n",
              "      <th>0</th>\n",
              "      <td>GP</td>\n",
              "      <td>F</td>\n",
              "      <td>18</td>\n",
              "      <td>U</td>\n",
              "      <td>GT3</td>\n",
              "      <td>A</td>\n",
              "      <td>4</td>\n",
              "      <td>4</td>\n",
              "      <td>at_home</td>\n",
              "      <td>teacher</td>\n",
              "      <td>...</td>\n",
              "      <td>yes</td>\n",
              "      <td>3</td>\n",
              "      <td>4</td>\n",
              "      <td>1</td>\n",
              "      <td>1</td>\n",
              "      <td>3</td>\n",
              "      <td>6</td>\n",
              "      <td>no</td>\n",
              "      <td>2023-06-27</td>\n",
              "      <td>2023-06</td>\n",
              "    </tr>\n",
              "    <tr>\n",
              "      <th>1</th>\n",
              "      <td>GP</td>\n",
              "      <td>F</td>\n",
              "      <td>17</td>\n",
              "      <td>U</td>\n",
              "      <td>GT3</td>\n",
              "      <td>T</td>\n",
              "      <td>1</td>\n",
              "      <td>1</td>\n",
              "      <td>at_home</td>\n",
              "      <td>other</td>\n",
              "      <td>...</td>\n",
              "      <td>no</td>\n",
              "      <td>3</td>\n",
              "      <td>3</td>\n",
              "      <td>1</td>\n",
              "      <td>1</td>\n",
              "      <td>3</td>\n",
              "      <td>4</td>\n",
              "      <td>no</td>\n",
              "      <td>2023-11-28</td>\n",
              "      <td>2023-11</td>\n",
              "    </tr>\n",
              "    <tr>\n",
              "      <th>2</th>\n",
              "      <td>GP</td>\n",
              "      <td>F</td>\n",
              "      <td>15</td>\n",
              "      <td>U</td>\n",
              "      <td>LE3</td>\n",
              "      <td>T</td>\n",
              "      <td>1</td>\n",
              "      <td>1</td>\n",
              "      <td>at_home</td>\n",
              "      <td>other</td>\n",
              "      <td>...</td>\n",
              "      <td>yes</td>\n",
              "      <td>3</td>\n",
              "      <td>2</td>\n",
              "      <td>2</td>\n",
              "      <td>3</td>\n",
              "      <td>3</td>\n",
              "      <td>10</td>\n",
              "      <td>yes</td>\n",
              "      <td>2023-04-23</td>\n",
              "      <td>2023-04</td>\n",
              "    </tr>\n",
              "    <tr>\n",
              "      <th>3</th>\n",
              "      <td>GP</td>\n",
              "      <td>F</td>\n",
              "      <td>15</td>\n",
              "      <td>U</td>\n",
              "      <td>GT3</td>\n",
              "      <td>T</td>\n",
              "      <td>4</td>\n",
              "      <td>2</td>\n",
              "      <td>health</td>\n",
              "      <td>services</td>\n",
              "      <td>...</td>\n",
              "      <td>yes</td>\n",
              "      <td>2</td>\n",
              "      <td>2</td>\n",
              "      <td>1</td>\n",
              "      <td>1</td>\n",
              "      <td>5</td>\n",
              "      <td>2</td>\n",
              "      <td>yes</td>\n",
              "      <td>2023-05-04</td>\n",
              "      <td>2023-05</td>\n",
              "    </tr>\n",
              "    <tr>\n",
              "      <th>4</th>\n",
              "      <td>GP</td>\n",
              "      <td>F</td>\n",
              "      <td>16</td>\n",
              "      <td>U</td>\n",
              "      <td>GT3</td>\n",
              "      <td>T</td>\n",
              "      <td>3</td>\n",
              "      <td>3</td>\n",
              "      <td>other</td>\n",
              "      <td>other</td>\n",
              "      <td>...</td>\n",
              "      <td>yes</td>\n",
              "      <td>3</td>\n",
              "      <td>2</td>\n",
              "      <td>1</td>\n",
              "      <td>2</td>\n",
              "      <td>5</td>\n",
              "      <td>4</td>\n",
              "      <td>yes</td>\n",
              "      <td>2023-08-12</td>\n",
              "      <td>2023-08</td>\n",
              "    </tr>\n",
              "  </tbody>\n",
              "</table>\n",
              "<p>5 rows × 29 columns</p>\n",
              "</div>"
            ],
            "text/plain": [
              "  school sex  age address famsize Pstatus  Medu  Fedu     Mjob      Fjob  ...  \\\n",
              "0     GP   F   18       U     GT3       A     4     4  at_home   teacher  ...   \n",
              "1     GP   F   17       U     GT3       T     1     1  at_home     other  ...   \n",
              "2     GP   F   15       U     LE3       T     1     1  at_home     other  ...   \n",
              "3     GP   F   15       U     GT3       T     4     2   health  services  ...   \n",
              "4     GP   F   16       U     GT3       T     3     3    other     other  ...   \n",
              "\n",
              "  nursery freetime  goout Dalc  Walc health absences passed creation_date  \\\n",
              "0     yes        3      4    1     1      3        6     no    2023-06-27   \n",
              "1      no        3      3    1     1      3        4     no    2023-11-28   \n",
              "2     yes        3      2    2     3      3       10    yes    2023-04-23   \n",
              "3     yes        2      2    1     1      5        2    yes    2023-05-04   \n",
              "4     yes        3      2    1     2      5        4    yes    2023-08-12   \n",
              "\n",
              "  creation_month  \n",
              "0        2023-06  \n",
              "1        2023-11  \n",
              "2        2023-04  \n",
              "3        2023-05  \n",
              "4        2023-08  \n",
              "\n",
              "[5 rows x 29 columns]"
            ]
          },
          "execution_count": 373,
          "metadata": {},
          "output_type": "execute_result"
        }
      ],
      "source": [
        "# Assuming df is your DataFrame\n",
        "date_range = pd.date_range(start='2023-01-01', periods=len(df), freq='D')\n",
        "df['creation_date'] = np.random.choice(date_range, size=len(df))\n",
        "\n",
        "# Now you can use the .dt accessor\n",
        "df['creation_month'] = df['creation_date'].dt.to_period('M')\n",
        "monthly_counts = df['creation_month'].value_counts().sort_index()\n",
        "\n",
        "\n",
        "#checks the code is correct\n",
        "df.head()"
      ]
    },
    {
      "cell_type": "code",
      "execution_count": 374,
      "metadata": {},
      "outputs": [
        {
          "data": {
            "text/plain": [
              "studytime\n",
              "1970-01-01 00:00:00.000000002    198\n",
              "1970-01-01 00:00:00.000000001    105\n",
              "1970-01-01 00:00:00.000000003     65\n",
              "1970-01-01 00:00:00.000000004     27\n",
              "Name: count, dtype: int64"
            ]
          },
          "execution_count": 374,
          "metadata": {},
          "output_type": "execute_result"
        }
      ],
      "source": [
        "# counting how many students have a particular study time:\n",
        "studytime_counts = df['studytime'].value_counts()\n",
        "studytime_counts\n",
        "\n"
      ]
    },
    {
      "cell_type": "markdown",
      "metadata": {},
      "source": [
        "### Explanation of the Code Block Above\n",
        "\n",
        "1. **Creating a New Column:**\n",
        "   - *Purpose:* We are adding a new column called 'creation_month' to our DataFrame (`df`).\n",
        "   - *How:* We take the 'created' column and extract only the month information, storing it in the new column.\n",
        "\n",
        "2. **Counting Creations per Month:**\n",
        "   - *Purpose:* We want to know how many creations happened in each month.\n",
        "   - *How:* We group the data by the 'creation_month' column and count the number of occurrences for each unique month. This count is stored in the `monthly_counts` variable.\n",
        "\n",
        "3. **Checking the Data:**\n",
        "   - *Purpose:* To make sure our code is working correctly, we look at the first two rows of our DataFrame.\n",
        "   - *How:* We use `df.head(2)` to display the first two rows, helping us verify that the 'creation_month' column was added correctly.\n",
        "\n",
        "In summary, this code helps us understand and analyze the distribution of creations over different months in our DataFrame.\n"
      ]
    },
    {
      "cell_type": "code",
      "execution_count": 375,
      "metadata": {
        "colab": {
          "base_uri": "https://localhost:8080/",
          "height": 515
        },
        "id": "cXNLaXYKqCZ4",
        "outputId": "ff021e20-b614-4c7a-9f04-705a02455fd4"
      },
      "outputs": [
        {
          "data": {
            "image/png": "[encoded data removed]",
            "text/plain": [
              "<Figure size 640x480 with 1 Axes>"
            ]
          },
          "metadata": {},
          "output_type": "display_data"
        }
      ],
      "source": [
        "# Plot the data\n",
        "monthly_counts.plot(kind='bar', color='skyblue')\n",
        "plt.xlabel('Creation Month')\n",
        "plt.ylabel('Number of creation')\n",
        "plt.title('Number of creation in month')\n",
        "plt.show()"
      ]
    },
    {
      "cell_type": "markdown",
      "metadata": {},
      "source": [
        "### Explanation of the Plot Code Block\n",
        "\n",
        "1. **Plotting the Data:**\n",
        "   - *Purpose:* We want to visualize the number of creations per month in a bar chart.\n",
        "   - *How:* Using the `monthly_counts` variable (which contains the count of creations for each month), we create a bar plot with bars representing each month's count.\n",
        "\n",
        "2. **Customizing the Plot:**\n",
        "   - *Purpose:* To make the plot informative and visually appealing.\n",
        "   - *How:* We customize the plot by adding labels to the x-axis (`Creation Month`) and y-axis (`Number of Creations`). Additionally, we give the plot a title (`Number of Creations Per Month`).\n",
        "\n",
        "3. **Displaying the Plot:**\n",
        "   - *Purpose:* To see the created bar chart.\n",
        "   - *How:* We use `plt.show()` to display the finalized plot.\n",
        "\n",
        "In summary, this code block is responsible for creating a bar chart that shows the number of creations per month. The customization ensures that the plot is easy to understand and provides insights into the monthly distribution of creations.\n"
      ]
    },
    {
      "cell_type": "markdown",
      "metadata": {
        "id": "zgwekBGljF8M"
      },
      "source": [
        "# 8. SQL Connect <a id=\"sql-connect\"></a>"
      ]
    },
    {
      "cell_type": "markdown",
      "metadata": {},
      "source": [
        "\n",
        "***This is a more advanced example, showcasing the capability to seamlessly integrate a CSV file into Python and execute SQL queries on it.***"
      ]
    },
    {
      "cell_type": "code",
      "execution_count": 376,
      "metadata": {
        "colab": {
          "base_uri": "https://localhost:8080/",
          "height": 391
        },
        "id": "1NLmlVmejE8p",
        "outputId": "2146854d-67b0-4d93-95f3-b539256879ce"
      },
      "outputs": [],
      "source": [
        "# Convert 'studytime' to datetime and then to string\n",
        "df['studytime'] = pd.to_datetime(df['studytime'], errors='coerce').astype(str)\n",
        "\n",
        "# Convert 'creation_month' to string (assuming it exists in the DataFrame)\n",
        "df['creation_month'] = df['creation_month'].astype(str)\n",
        "\n",
        "# Define the SQLite connection\n",
        "conn = connect(':memory:')  # This creates an in-memory database; use 'your_file.db' for a file-based database\n",
        "\n",
        "# Save DataFrame to the SQLite database\n",
        "df.to_sql('df', conn, if_exists='replace', index=False)\n",
        "          \n",
        "\n",
        "#Define a function to execute SQL queries\n",
        "def sql(query):\n",
        "    return pd.read_sql(query, conn)"
      ]
    },
    {
      "cell_type": "markdown",
      "metadata": {},
      "source": [
        "### Explanation in Simple Terms:\n",
        "\n",
        "1. **Converting Date Columns:**\n",
        "   - *Purpose:* We want to change how the date information looks in our data.\n",
        "   - *How:* We change the 'created' column to a string (text) format, making it easier to read. Similarly, we do the same for the 'creation_month' column.\n",
        "\n",
        "2. **Saving to SQLite Database:**\n",
        "   - *Purpose:* We're saving our DataFrame to a special type of database called SQLite.\n",
        "   - *How:* We specify the data types for each column (like 'INTEGER' for numbers and 'TEXT' for text) and then save our DataFrame to an in-memory SQLite connection.\n",
        "\n",
        "3. **Convenient Function:**\n",
        "   - *Purpose:* We create a helpful function to execute SQL queries on our SQLite database and return the results as a DataFrame.\n",
        "   - *How:* The `sql` function takes a SQL query as a string, executes it on the SQLite connection, and returns the results in a DataFrame.\n",
        "\n",
        "In summary, this code makes our date columns easier to read by converting them to strings and then saves our DataFrame to an SQLite database, providing a convenient way to query and analyze the data using SQL commands.\n"
      ]
    },
    {
      "cell_type": "markdown",
      "metadata": {},
      "source": [
        "### Finding the number of rows in the data"
      ]
    },
    {
      "cell_type": "code",
      "execution_count": 377,
      "metadata": {},
      "outputs": [
        {
          "data": {
            "text/html": [
              "<div>\n",
              "<style scoped>\n",
              "    .dataframe tbody tr th:only-of-type {\n",
              "        vertical-align: middle;\n",
              "    }\n",
              "\n",
              "    .dataframe tbody tr th {\n",
              "        vertical-align: top;\n",
              "    }\n",
              "\n",
              "    .dataframe thead th {\n",
              "        text-align: right;\n",
              "    }\n",
              "</style>\n",
              "<table border=\"1\" class=\"dataframe\">\n",
              "  <thead>\n",
              "    <tr style=\"text-align: right;\">\n",
              "      <th></th>\n",
              "      <th>row_count</th>\n",
              "    </tr>\n",
              "  </thead>\n",
              "  <tbody>\n",
              "    <tr>\n",
              "      <th>0</th>\n",
              "      <td>395</td>\n",
              "    </tr>\n",
              "  </tbody>\n",
              "</table>\n",
              "</div>"
            ],
            "text/plain": [
              "   row_count\n",
              "0        395"
            ]
          },
          "execution_count": 377,
          "metadata": {},
          "output_type": "execute_result"
        }
      ],
      "source": [
        "sql(\"\"\"SELECT COUNT(*) \n",
        "    AS row_count \n",
        "    FROM df;\"\"\")"
      ]
    },
    {
      "cell_type": "markdown",
      "metadata": {},
      "source": [
        "\n",
        "- **`SELECT COUNT(*)`:** This part of the query selects the count of rows. The `COUNT(*)` function is used to count all rows in the specified table.\n",
        "\n",
        "- **`AS row_count`:** This renames the result column to be called `row_count`. The `AS` keyword is used to give a user-friendly name to the result of the `COUNT(*)` function.\n",
        "\n",
        "- **`FROM df`:** This specifies the table from which the count is being calculated. In this case, it's a table named `df`.\n",
        "\n",
        "So, in simple terms, this query is asking: \"How many rows are there in the table named `df`?\" The result will be a single value, which represents the total number of rows in that table.\n"
      ]
    },
    {
      "cell_type": "markdown",
      "metadata": {},
      "source": [
        "### Finding the NAME and SPECIES of ALL characters who are 'Alive' and MALE. "
      ]
    },
    {
      "cell_type": "code",
      "execution_count": 378,
      "metadata": {
        "id": "ecqAFETKrLgP"
      },
      "outputs": [
        {
          "data": {
            "text/html": [
              "<div>\n",
              "<style scoped>\n",
              "    .dataframe tbody tr th:only-of-type {\n",
              "        vertical-align: middle;\n",
              "    }\n",
              "\n",
              "    .dataframe tbody tr th {\n",
              "        vertical-align: top;\n",
              "    }\n",
              "\n",
              "    .dataframe thead th {\n",
              "        text-align: right;\n",
              "    }\n",
              "</style>\n",
              "<table border=\"1\" class=\"dataframe\">\n",
              "  <thead>\n",
              "    <tr style=\"text-align: right;\">\n",
              "      <th></th>\n",
              "      <th>guardian</th>\n",
              "      <th>address</th>\n",
              "    </tr>\n",
              "  </thead>\n",
              "  <tbody>\n",
              "    <tr>\n",
              "      <th>0</th>\n",
              "      <td>father</td>\n",
              "      <td>U</td>\n",
              "    </tr>\n",
              "    <tr>\n",
              "      <th>1</th>\n",
              "      <td>father</td>\n",
              "      <td>U</td>\n",
              "    </tr>\n",
              "    <tr>\n",
              "      <th>2</th>\n",
              "      <td>father</td>\n",
              "      <td>U</td>\n",
              "    </tr>\n",
              "    <tr>\n",
              "      <th>3</th>\n",
              "      <td>father</td>\n",
              "      <td>U</td>\n",
              "    </tr>\n",
              "    <tr>\n",
              "      <th>4</th>\n",
              "      <td>father</td>\n",
              "      <td>U</td>\n",
              "    </tr>\n",
              "    <tr>\n",
              "      <th>5</th>\n",
              "      <td>father</td>\n",
              "      <td>U</td>\n",
              "    </tr>\n",
              "    <tr>\n",
              "      <th>6</th>\n",
              "      <td>father</td>\n",
              "      <td>U</td>\n",
              "    </tr>\n",
              "    <tr>\n",
              "      <th>7</th>\n",
              "      <td>father</td>\n",
              "      <td>U</td>\n",
              "    </tr>\n",
              "    <tr>\n",
              "      <th>8</th>\n",
              "      <td>father</td>\n",
              "      <td>U</td>\n",
              "    </tr>\n",
              "    <tr>\n",
              "      <th>9</th>\n",
              "      <td>father</td>\n",
              "      <td>U</td>\n",
              "    </tr>\n",
              "    <tr>\n",
              "      <th>10</th>\n",
              "      <td>father</td>\n",
              "      <td>U</td>\n",
              "    </tr>\n",
              "    <tr>\n",
              "      <th>11</th>\n",
              "      <td>father</td>\n",
              "      <td>U</td>\n",
              "    </tr>\n",
              "    <tr>\n",
              "      <th>12</th>\n",
              "      <td>father</td>\n",
              "      <td>R</td>\n",
              "    </tr>\n",
              "    <tr>\n",
              "      <th>13</th>\n",
              "      <td>father</td>\n",
              "      <td>U</td>\n",
              "    </tr>\n",
              "    <tr>\n",
              "      <th>14</th>\n",
              "      <td>father</td>\n",
              "      <td>U</td>\n",
              "    </tr>\n",
              "    <tr>\n",
              "      <th>15</th>\n",
              "      <td>father</td>\n",
              "      <td>U</td>\n",
              "    </tr>\n",
              "    <tr>\n",
              "      <th>16</th>\n",
              "      <td>father</td>\n",
              "      <td>R</td>\n",
              "    </tr>\n",
              "    <tr>\n",
              "      <th>17</th>\n",
              "      <td>father</td>\n",
              "      <td>U</td>\n",
              "    </tr>\n",
              "    <tr>\n",
              "      <th>18</th>\n",
              "      <td>father</td>\n",
              "      <td>U</td>\n",
              "    </tr>\n",
              "    <tr>\n",
              "      <th>19</th>\n",
              "      <td>father</td>\n",
              "      <td>U</td>\n",
              "    </tr>\n",
              "    <tr>\n",
              "      <th>20</th>\n",
              "      <td>father</td>\n",
              "      <td>U</td>\n",
              "    </tr>\n",
              "    <tr>\n",
              "      <th>21</th>\n",
              "      <td>father</td>\n",
              "      <td>U</td>\n",
              "    </tr>\n",
              "    <tr>\n",
              "      <th>22</th>\n",
              "      <td>father</td>\n",
              "      <td>U</td>\n",
              "    </tr>\n",
              "    <tr>\n",
              "      <th>23</th>\n",
              "      <td>father</td>\n",
              "      <td>U</td>\n",
              "    </tr>\n",
              "    <tr>\n",
              "      <th>24</th>\n",
              "      <td>father</td>\n",
              "      <td>U</td>\n",
              "    </tr>\n",
              "    <tr>\n",
              "      <th>25</th>\n",
              "      <td>father</td>\n",
              "      <td>U</td>\n",
              "    </tr>\n",
              "    <tr>\n",
              "      <th>26</th>\n",
              "      <td>father</td>\n",
              "      <td>U</td>\n",
              "    </tr>\n",
              "    <tr>\n",
              "      <th>27</th>\n",
              "      <td>father</td>\n",
              "      <td>U</td>\n",
              "    </tr>\n",
              "    <tr>\n",
              "      <th>28</th>\n",
              "      <td>father</td>\n",
              "      <td>R</td>\n",
              "    </tr>\n",
              "    <tr>\n",
              "      <th>29</th>\n",
              "      <td>father</td>\n",
              "      <td>U</td>\n",
              "    </tr>\n",
              "    <tr>\n",
              "      <th>30</th>\n",
              "      <td>father</td>\n",
              "      <td>U</td>\n",
              "    </tr>\n",
              "    <tr>\n",
              "      <th>31</th>\n",
              "      <td>father</td>\n",
              "      <td>R</td>\n",
              "    </tr>\n",
              "    <tr>\n",
              "      <th>32</th>\n",
              "      <td>father</td>\n",
              "      <td>U</td>\n",
              "    </tr>\n",
              "    <tr>\n",
              "      <th>33</th>\n",
              "      <td>father</td>\n",
              "      <td>U</td>\n",
              "    </tr>\n",
              "    <tr>\n",
              "      <th>34</th>\n",
              "      <td>father</td>\n",
              "      <td>U</td>\n",
              "    </tr>\n",
              "    <tr>\n",
              "      <th>35</th>\n",
              "      <td>father</td>\n",
              "      <td>U</td>\n",
              "    </tr>\n",
              "    <tr>\n",
              "      <th>36</th>\n",
              "      <td>father</td>\n",
              "      <td>U</td>\n",
              "    </tr>\n",
              "    <tr>\n",
              "      <th>37</th>\n",
              "      <td>father</td>\n",
              "      <td>U</td>\n",
              "    </tr>\n",
              "    <tr>\n",
              "      <th>38</th>\n",
              "      <td>father</td>\n",
              "      <td>U</td>\n",
              "    </tr>\n",
              "    <tr>\n",
              "      <th>39</th>\n",
              "      <td>father</td>\n",
              "      <td>R</td>\n",
              "    </tr>\n",
              "    <tr>\n",
              "      <th>40</th>\n",
              "      <td>father</td>\n",
              "      <td>U</td>\n",
              "    </tr>\n",
              "    <tr>\n",
              "      <th>41</th>\n",
              "      <td>father</td>\n",
              "      <td>U</td>\n",
              "    </tr>\n",
              "    <tr>\n",
              "      <th>42</th>\n",
              "      <td>father</td>\n",
              "      <td>R</td>\n",
              "    </tr>\n",
              "    <tr>\n",
              "      <th>43</th>\n",
              "      <td>father</td>\n",
              "      <td>U</td>\n",
              "    </tr>\n",
              "    <tr>\n",
              "      <th>44</th>\n",
              "      <td>father</td>\n",
              "      <td>U</td>\n",
              "    </tr>\n",
              "    <tr>\n",
              "      <th>45</th>\n",
              "      <td>father</td>\n",
              "      <td>R</td>\n",
              "    </tr>\n",
              "    <tr>\n",
              "      <th>46</th>\n",
              "      <td>father</td>\n",
              "      <td>U</td>\n",
              "    </tr>\n",
              "  </tbody>\n",
              "</table>\n",
              "</div>"
            ],
            "text/plain": [
              "   guardian address\n",
              "0    father       U\n",
              "1    father       U\n",
              "2    father       U\n",
              "3    father       U\n",
              "4    father       U\n",
              "5    father       U\n",
              "6    father       U\n",
              "7    father       U\n",
              "8    father       U\n",
              "9    father       U\n",
              "10   father       U\n",
              "11   father       U\n",
              "12   father       R\n",
              "13   father       U\n",
              "14   father       U\n",
              "15   father       U\n",
              "16   father       R\n",
              "17   father       U\n",
              "18   father       U\n",
              "19   father       U\n",
              "20   father       U\n",
              "21   father       U\n",
              "22   father       U\n",
              "23   father       U\n",
              "24   father       U\n",
              "25   father       U\n",
              "26   father       U\n",
              "27   father       U\n",
              "28   father       R\n",
              "29   father       U\n",
              "30   father       U\n",
              "31   father       R\n",
              "32   father       U\n",
              "33   father       U\n",
              "34   father       U\n",
              "35   father       U\n",
              "36   father       U\n",
              "37   father       U\n",
              "38   father       U\n",
              "39   father       R\n",
              "40   father       U\n",
              "41   father       U\n",
              "42   father       R\n",
              "43   father       U\n",
              "44   father       U\n",
              "45   father       R\n",
              "46   father       U"
            ]
          },
          "execution_count": 378,
          "metadata": {},
          "output_type": "execute_result"
        }
      ],
      "source": [
        "sql(\"\"\"SELECT guardian, address\n",
        "    FROM df\n",
        "    WHERE guardian = 'father' AND sex = 'M';\"\"\")"
      ]
    },
    {
      "cell_type": "markdown",
      "metadata": {},
      "source": [
        "\n",
        "- **`SELECT name, species`:** This part of the query selects the 'name' and 'species' columns from the DataFrame.\n",
        "\n",
        "- **`FROM df`:** Specifies that the data is being selected from a table named `df`. \n",
        "\n",
        "- **`WHERE status = 'Alive' AND gender = 'Male'`:** This filters the rows based on conditions. It retrieves only those rows where the 'status' column has the value 'Alive' and the 'gender' column has the value 'Male'.\n",
        "\n",
        "So, in simple terms, this query is asking: \"Give me the 'name' and 'species' columns for rows where the 'status' is 'Alive' and the 'gender' is 'Male' from the DataFrame named `df`.\" The result will be a subset of the original DataFrame that meets these specified conditions.\n"
      ]
    },
    {
      "cell_type": "markdown",
      "metadata": {},
      "source": [
        "### Finding the numbers of creations per month\n",
        "\n",
        "This query will replicate the data and graph created using Matplotlib from above. "
      ]
    },
    {
      "cell_type": "code",
      "execution_count": 379,
      "metadata": {},
      "outputs": [
        {
          "data": {
            "text/html": [
              "<div>\n",
              "<style scoped>\n",
              "    .dataframe tbody tr th:only-of-type {\n",
              "        vertical-align: middle;\n",
              "    }\n",
              "\n",
              "    .dataframe tbody tr th {\n",
              "        vertical-align: top;\n",
              "    }\n",
              "\n",
              "    .dataframe thead th {\n",
              "        text-align: right;\n",
              "    }\n",
              "</style>\n",
              "<table border=\"1\" class=\"dataframe\">\n",
              "  <thead>\n",
              "    <tr style=\"text-align: right;\">\n",
              "      <th></th>\n",
              "      <th>creation_month</th>\n",
              "      <th>creations_per_month</th>\n",
              "    </tr>\n",
              "  </thead>\n",
              "  <tbody>\n",
              "    <tr>\n",
              "      <th>0</th>\n",
              "      <td>2023-01</td>\n",
              "      <td>26</td>\n",
              "    </tr>\n",
              "    <tr>\n",
              "      <th>1</th>\n",
              "      <td>2023-02</td>\n",
              "      <td>21</td>\n",
              "    </tr>\n",
              "    <tr>\n",
              "      <th>2</th>\n",
              "      <td>2023-03</td>\n",
              "      <td>31</td>\n",
              "    </tr>\n",
              "    <tr>\n",
              "      <th>3</th>\n",
              "      <td>2023-04</td>\n",
              "      <td>32</td>\n",
              "    </tr>\n",
              "    <tr>\n",
              "      <th>4</th>\n",
              "      <td>2023-05</td>\n",
              "      <td>38</td>\n",
              "    </tr>\n",
              "    <tr>\n",
              "      <th>5</th>\n",
              "      <td>2023-06</td>\n",
              "      <td>39</td>\n",
              "    </tr>\n",
              "    <tr>\n",
              "      <th>6</th>\n",
              "      <td>2023-07</td>\n",
              "      <td>26</td>\n",
              "    </tr>\n",
              "    <tr>\n",
              "      <th>7</th>\n",
              "      <td>2023-08</td>\n",
              "      <td>28</td>\n",
              "    </tr>\n",
              "    <tr>\n",
              "      <th>8</th>\n",
              "      <td>2023-09</td>\n",
              "      <td>34</td>\n",
              "    </tr>\n",
              "    <tr>\n",
              "      <th>9</th>\n",
              "      <td>2023-10</td>\n",
              "      <td>37</td>\n",
              "    </tr>\n",
              "    <tr>\n",
              "      <th>10</th>\n",
              "      <td>2023-11</td>\n",
              "      <td>27</td>\n",
              "    </tr>\n",
              "    <tr>\n",
              "      <th>11</th>\n",
              "      <td>2023-12</td>\n",
              "      <td>35</td>\n",
              "    </tr>\n",
              "    <tr>\n",
              "      <th>12</th>\n",
              "      <td>2024-01</td>\n",
              "      <td>21</td>\n",
              "    </tr>\n",
              "  </tbody>\n",
              "</table>\n",
              "</div>"
            ],
            "text/plain": [
              "   creation_month  creations_per_month\n",
              "0         2023-01                   26\n",
              "1         2023-02                   21\n",
              "2         2023-03                   31\n",
              "3         2023-04                   32\n",
              "4         2023-05                   38\n",
              "5         2023-06                   39\n",
              "6         2023-07                   26\n",
              "7         2023-08                   28\n",
              "8         2023-09                   34\n",
              "9         2023-10                   37\n",
              "10        2023-11                   27\n",
              "11        2023-12                   35\n",
              "12        2024-01                   21"
            ]
          },
          "execution_count": 379,
          "metadata": {},
          "output_type": "execute_result"
        }
      ],
      "source": [
        "sql(\"\"\"SELECT creation_month, \n",
        "    COUNT(*) \n",
        "    AS creations_per_month\n",
        "    FROM df\n",
        "    GROUP BY creation_month;\"\"\")"
      ]
    },
    {
      "cell_type": "markdown",
      "metadata": {},
      "source": [
        "\n",
        "- **`SELECT creation_month, COUNT(*) AS creations_per_month`:** This part of the query selects the 'creation_month' column and counts the occurrences of each unique month. The result is renamed as 'creations_per_month' for clarity.\n",
        "\n",
        "- **`FROM df`:** Specifies that the data is being selected from a table named `df`. In this context, `df` is assumed to be the name of the table or DataFrame.\n",
        "\n",
        "- **`GROUP BY creation_month`:** This groups the data based on the 'creation_month' column. It's used in conjunction with the aggregate function (`COUNT(*)`) to count the number of creations for each unique month.\n",
        "\n",
        "So, in simple terms, this query is asking: \"Count the number of creations for each unique month and display the results along with the corresponding month in the DataFrame named `df`.\" The result will be a table with two columns, 'creation_month' and 'creations_per_month', showing the count of creations for each month.\n"
      ]
    },
    {
      "cell_type": "markdown",
      "metadata": {},
      "source": [
        "### Comparing Pandas and SQL Approaches\n",
        "\n",
        "\n",
        "#### Pandas Code:\n",
        "```python\n",
        "# Create a new column 'creation_month' with the month information\n",
        "df['creation_month'] = df['studytime'].dt.to_period('M')\n",
        "\n",
        "# Group by month and count the number of creations\n",
        "monthly_counts = df['creation_month'].value_counts().sort_index() \n",
        "\n"
      ]
    },
    {
      "cell_type": "markdown",
      "metadata": {},
      "source": [
        "#### SQL Query:\n",
        "```sql\n",
        "SELECT creation_month, \n",
        "    COUNT(*) AS creations_per_month\n",
        "FROM df\n",
        "GROUP BY creation_month;"
      ]
    },
    {
      "cell_type": "markdown",
      "metadata": {},
      "source": [
        "# Here we plot the last query and see if it matches the pandas plot. "
      ]
    },
    {
      "cell_type": "code",
      "execution_count": 380,
      "metadata": {},
      "outputs": [
        {
          "data": {
            "image/png": "[encoded data removed]",
            "text/plain": [
              "<Figure size 640x480 with 1 Axes>"
            ]
          },
          "metadata": {},
          "output_type": "display_data"
        }
      ],
      "source": [
        "sql(\"\"\"SELECT creation_month, \n",
        "    COUNT(*) \n",
        "    AS creations_per_month\n",
        "    FROM df\n",
        "    GROUP BY creation_month;\"\"\").plot.bar(x='creation_month', ylabel='Number of Creations', title='Number of Creations Per Month', color='skyblue', legend=False);"
      ]
    },
    {
      "cell_type": "code",
      "execution_count": 381,
      "metadata": {},
      "outputs": [
        {
          "data": {
            "image/png": "[encoded data removed]",
            "text/plain": [
              "<Figure size 640x480 with 1 Axes>"
            ]
          },
          "metadata": {},
          "output_type": "display_data"
        }
      ],
      "source": [
        "# Plot the data\n",
        "monthly_counts.plot(kind='bar', color='skyblue')\n",
        "plt.xlabel('Creation Month')\n",
        "plt.ylabel('Number of Creations')\n",
        "plt.title('Number of Creations Per Month')\n",
        "plt.show()"
      ]
    },
    {
      "cell_type": "markdown",
      "metadata": {},
      "source": [
        "## Conclusion of plots \n",
        "Even though we're using different tools (Pandas and SQL), both the Pandas code and SQL query do the same thing—they summarize and show the distribution of creations over time. This shows that even with different tools, we can achieve the same results in data analysis.\n"
      ]
    }
  ],
  "metadata": {
    "colab": {
      "authorship_tag": "ABX9TyPtXtGHKis/I/z9yj36I5D3",
      "include_colab_link": true,
      "provenance": []
    },
    "kernelspec": {
      "display_name": "Python 3",
      "name": "python3"
    },
    "language_info": {
      "codemirror_mode": {
        "name": "ipython",
        "version": 3
      },
      "file_extension": ".py",
      "mimetype": "text/x-python",
      "name": "python",
      "nbconvert_exporter": "python",
      "pygments_lexer": "ipython3",
      "version": "3.12.4"
    }
  },
  "nbformat": 4,
  "nbformat_minor": 0
}
