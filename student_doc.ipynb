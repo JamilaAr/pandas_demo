{
  "cells": [
    {
      "cell_type": "markdown",
      "metadata": {
        "colab_type": "text",
        "id": "view-in-github"
      },
      "source": [
        "<a href=\"https://colab.research.google.com/github/dmorton714/pandas_demo/blob/main/pandas.ipynb\" target=\"_parent\"><img src=\"https://colab.research.google.com/assets/colab-badge.svg\" alt=\"Open In Colab\"/></a>"
      ]
    },
    {
      "cell_type": "code",
      "execution_count": 30,
      "metadata": {
        "id": "QquUHQgIdJQX"
      },
      "outputs": [],
      "source": [
        "import pandas as pd\n",
        "import requests\n",
        "import json\n",
        "import matplotlib.pyplot as plt\n",
        "from sqlite3 import connect"
      ]
    },
    {
      "cell_type": "markdown",
      "metadata": {
        "id": "pVO0dFC-eljv"
      },
      "source": [
        "# Explanation of Python Packages\n",
        "\n",
        "## pandas\n",
        "- **Purpose:** Pandas is a versatile library for data manipulation and analysis.\n",
        "- **Description:** It provides easy-to-use data structures (e.g., DataFrame) and tools for cleaning, filtering, and summarizing structured data.\n",
        "\n",
        "## requests\n",
        "- **Purpose:** The `requests` package simplifies the process of sending HTTP requests.\n",
        "- **Description:** It enables Python programs to interact with web services by making it easy to send GET, POST, and other types of HTTP requests and handle the responses.\n",
        "\n",
        "## json\n",
        "- **Purpose:** The `json` module facilitates working with JSON data.\n",
        "- **Description:** JSON is a common data interchange format, and this module allows Python programs to encode (convert to JSON) or decode (convert from JSON) data effortlessly.\n",
        "\n",
        "## numpy\n",
        "- **Purpose:** Numpy is a library for numerical operations in Python.\n",
        "- **Description:** It supports large, multi-dimensional arrays and matrices, along with mathematical functions for scientific and data-related applications.\n",
        "\n",
        "## seaborn\n",
        "- **Purpose:** Seaborn is a data visualization library built on top of Matplotlib.\n",
        "- **Description:** It simplifies the process of creating attractive and informative statistical graphics, making it easy to generate eye-catching charts and graphs with minimal code.\n",
        "\n",
        "## sqlite3\n",
        "- **Purpose:** The `sqlite3` module provides a simple way to work with SQLite databases.\n",
        "- **Description:** SQLite is a lightweight, file-based database, and the `sqlite3` module enables Python programs to connect to and interact with these databases.\n",
        "\n",
        "In summary, these packages cover a broad spectrum of tasks, from handling data to making web requests, working with numerical data, creating visualizations, and interacting with databases. Using these packages can significantly enhance your ability to accomplish various programming tasks without having to write everything from scratch.\n"
      ]
    },
    {
      "cell_type": "markdown",
      "metadata": {
        "id": "KtwBQYp4f3AN"
      },
      "source": [
        "# API Import\n",
        "In this example, we efficiently retrieve and import data into a DataFrame through a systematic pagination approach. This method ensures that we retrieve the data in manageable chunks, optimizing the process of populating our DataFrame."
      ]
    },
    {
      "cell_type": "code",
      "execution_count": 31,
      "metadata": {
        "id": "WMreH6gMdUqk"
      },
      "outputs": [],
      "source": [
        "url = 'https://rickandmortyapi.com/api/character'\n",
        "results = []\n",
        "page = 1\n",
        "\n",
        "while True:\n",
        "    response = requests.get(f'{url}?page={page}')\n",
        "    data = response.json()\n",
        "\n",
        "    if 'results' in data and len(data['results']) > 0:\n",
        "        results.extend(data['results'])\n",
        "        page += 1\n",
        "    else:\n",
        "        break\n",
        "\n",
        "df = pd.DataFrame(results)\n",
        "\n",
        "df.to_csv('rick_n_morty.csv')"
      ]
    },
    {
      "cell_type": "markdown",
      "metadata": {
        "id": "VumFt8D4gyE7"
      },
      "source": [
        "## Explaining API calls high level\n",
        "\n",
        "Imagine you have a big box of toys, and these toys are characters from a show called \"Rick and Morty.\" But there are so many characters that you can't see them all at once.\n",
        "\n",
        "Now, you want to organize these toys, but looking at all of them together is too much. So, [link text](https://)you decide to look at a few toys at a time, like flipping through pages in a book. Each time you flip a page, you see a group of characters.\n",
        "\n",
        "In the computer world, this is similar. The characters are stored on the internet, and you have a special tool (a program) that helps you bring a few characters at a time (a page) and puts them in a list (results). Then, you look at the next page, and the next, until you have all the characters.\n",
        "\n",
        "Finally, you take all the characters you collected and put them in a neat table (DataFrame) so you can easily see and play with them. Now you have a list of all the characters from the \"Rick and Morty\" show!\n"
      ]
    },
    {
      "cell_type": "markdown",
      "metadata": {
        "id": "INpsiLAbhRu6"
      },
      "source": [
        "# reading in a local CSV file"
      ]
    },
    {
      "cell_type": "code",
      "execution_count": 32,
      "metadata": {
        "id": "G2vaKeOIf0z3"
      },
      "outputs": [],
      "source": [
        "df = pd.read_csv('rick_n_morty.csv')"
      ]
    },
    {
      "cell_type": "markdown",
      "metadata": {
        "id": "nmA3ZqWxi5yy"
      },
      "source": [
        "## Understanding `pd.read_csv('rick_n_morty.csv')`\n",
        "\n",
        "In the programming world, there's a way to store and organize data neatly in files. A CSV file is one such format, acting like a table with rows and columns.\n",
        "\n",
        "When you see `pd.read_csv('rick_n_morty.csv')`, it's a command in Python using the Pandas library. It tells the computer to open a file named 'rick_n_morty.csv' that contains organized data.\n",
        "\n",
        "Pandas reads this file, structures the data, and creates a table-like structure called a DataFrame. This DataFrame allows you to manipulate and analyze the information conveniently. Essentially, you're loading data from a file to explore and work with it using Python.\n"
      ]
    },
    {
      "cell_type": "markdown",
      "metadata": {
        "id": "JLb3fciAki3N"
      },
      "source": [
        "# Looking at the Data"
      ]
    },
    {
      "cell_type": "markdown",
      "metadata": {
        "id": "g8gJ9wojlFGF"
      },
      "source": [
        "Lets look at the first 2 rows and the last 2 rows.\n"
      ]
    },
    {
      "cell_type": "code",
      "execution_count": 33,
      "metadata": {
        "colab": {
          "base_uri": "https://localhost:8080/",
          "height": 271
        },
        "id": "fJkQbllhkiGA",
        "outputId": "a8ce6d18-d947-4b50-cc0a-7fdf70456285"
      },
      "outputs": [
        {
          "data": {
            "text/html": [
              "<div>\n",
              "<style scoped>\n",
              "    .dataframe tbody tr th:only-of-type {\n",
              "        vertical-align: middle;\n",
              "    }\n",
              "\n",
              "    .dataframe tbody tr th {\n",
              "        vertical-align: top;\n",
              "    }\n",
              "\n",
              "    .dataframe thead th {\n",
              "        text-align: right;\n",
              "    }\n",
              "</style>\n",
              "<table border=\"1\" class=\"dataframe\">\n",
              "  <thead>\n",
              "    <tr style=\"text-align: right;\">\n",
              "      <th></th>\n",
              "      <th>Unnamed: 0</th>\n",
              "      <th>id</th>\n",
              "      <th>name</th>\n",
              "      <th>status</th>\n",
              "      <th>species</th>\n",
              "      <th>type</th>\n",
              "      <th>gender</th>\n",
              "      <th>origin</th>\n",
              "      <th>location</th>\n",
              "      <th>image</th>\n",
              "      <th>episode</th>\n",
              "      <th>url</th>\n",
              "      <th>created</th>\n",
              "    </tr>\n",
              "  </thead>\n",
              "  <tbody>\n",
              "    <tr>\n",
              "      <th>0</th>\n",
              "      <td>0</td>\n",
              "      <td>1</td>\n",
              "      <td>Rick Sanchez</td>\n",
              "      <td>Alive</td>\n",
              "      <td>Human</td>\n",
              "      <td>NaN</td>\n",
              "      <td>Male</td>\n",
              "      <td>{'name': 'Earth (C-137)', 'url': 'https://rick...</td>\n",
              "      <td>{'name': 'Citadel of Ricks', 'url': 'https://r...</td>\n",
              "      <td>https://rickandmortyapi.com/api/character/avat...</td>\n",
              "      <td>['https://rickandmortyapi.com/api/episode/1', ...</td>\n",
              "      <td>https://rickandmortyapi.com/api/character/1</td>\n",
              "      <td>2017-11-04T18:48:46.250Z</td>\n",
              "    </tr>\n",
              "    <tr>\n",
              "      <th>1</th>\n",
              "      <td>1</td>\n",
              "      <td>2</td>\n",
              "      <td>Morty Smith</td>\n",
              "      <td>Alive</td>\n",
              "      <td>Human</td>\n",
              "      <td>NaN</td>\n",
              "      <td>Male</td>\n",
              "      <td>{'name': 'unknown', 'url': ''}</td>\n",
              "      <td>{'name': 'Citadel of Ricks', 'url': 'https://r...</td>\n",
              "      <td>https://rickandmortyapi.com/api/character/avat...</td>\n",
              "      <td>['https://rickandmortyapi.com/api/episode/1', ...</td>\n",
              "      <td>https://rickandmortyapi.com/api/character/2</td>\n",
              "      <td>2017-11-04T18:50:21.651Z</td>\n",
              "    </tr>\n",
              "  </tbody>\n",
              "</table>\n",
              "</div>"
            ],
            "text/plain": [
              "   Unnamed: 0  id          name status species type gender  \\\n",
              "0           0   1  Rick Sanchez  Alive   Human  NaN   Male   \n",
              "1           1   2   Morty Smith  Alive   Human  NaN   Male   \n",
              "\n",
              "                                              origin  \\\n",
              "0  {'name': 'Earth (C-137)', 'url': 'https://rick...   \n",
              "1                     {'name': 'unknown', 'url': ''}   \n",
              "\n",
              "                                            location  \\\n",
              "0  {'name': 'Citadel of Ricks', 'url': 'https://r...   \n",
              "1  {'name': 'Citadel of Ricks', 'url': 'https://r...   \n",
              "\n",
              "                                               image  \\\n",
              "0  https://rickandmortyapi.com/api/character/avat...   \n",
              "1  https://rickandmortyapi.com/api/character/avat...   \n",
              "\n",
              "                                             episode  \\\n",
              "0  ['https://rickandmortyapi.com/api/episode/1', ...   \n",
              "1  ['https://rickandmortyapi.com/api/episode/1', ...   \n",
              "\n",
              "                                           url                   created  \n",
              "0  https://rickandmortyapi.com/api/character/1  2017-11-04T18:48:46.250Z  \n",
              "1  https://rickandmortyapi.com/api/character/2  2017-11-04T18:50:21.651Z  "
            ]
          },
          "execution_count": 33,
          "metadata": {},
          "output_type": "execute_result"
        }
      ],
      "source": [
        "# your code here "
      ]
    },
    {
      "cell_type": "code",
      "execution_count": 34,
      "metadata": {
        "colab": {
          "base_uri": "https://localhost:8080/",
          "height": 271
        },
        "id": "VpMvztMElIe-",
        "outputId": "8fac71d7-b8cf-4c3d-b2ff-66cd66d45db0"
      },
      "outputs": [
        {
          "data": {
            "text/html": [
              "<div>\n",
              "<style scoped>\n",
              "    .dataframe tbody tr th:only-of-type {\n",
              "        vertical-align: middle;\n",
              "    }\n",
              "\n",
              "    .dataframe tbody tr th {\n",
              "        vertical-align: top;\n",
              "    }\n",
              "\n",
              "    .dataframe thead th {\n",
              "        text-align: right;\n",
              "    }\n",
              "</style>\n",
              "<table border=\"1\" class=\"dataframe\">\n",
              "  <thead>\n",
              "    <tr style=\"text-align: right;\">\n",
              "      <th></th>\n",
              "      <th>Unnamed: 0</th>\n",
              "      <th>id</th>\n",
              "      <th>name</th>\n",
              "      <th>status</th>\n",
              "      <th>species</th>\n",
              "      <th>type</th>\n",
              "      <th>gender</th>\n",
              "      <th>origin</th>\n",
              "      <th>location</th>\n",
              "      <th>image</th>\n",
              "      <th>episode</th>\n",
              "      <th>url</th>\n",
              "      <th>created</th>\n",
              "    </tr>\n",
              "  </thead>\n",
              "  <tbody>\n",
              "    <tr>\n",
              "      <th>824</th>\n",
              "      <td>824</td>\n",
              "      <td>825</td>\n",
              "      <td>Young Jerry</td>\n",
              "      <td>unknown</td>\n",
              "      <td>Human</td>\n",
              "      <td>NaN</td>\n",
              "      <td>Male</td>\n",
              "      <td>{'name': 'Earth (Unknown dimension)', 'url': '...</td>\n",
              "      <td>{'name': 'Earth (Unknown dimension)', 'url': '...</td>\n",
              "      <td>https://rickandmortyapi.com/api/character/avat...</td>\n",
              "      <td>['https://rickandmortyapi.com/api/episode/51']</td>\n",
              "      <td>https://rickandmortyapi.com/api/character/825</td>\n",
              "      <td>2021-11-02T17:20:14.305Z</td>\n",
              "    </tr>\n",
              "    <tr>\n",
              "      <th>825</th>\n",
              "      <td>825</td>\n",
              "      <td>826</td>\n",
              "      <td>Butter Robot</td>\n",
              "      <td>Alive</td>\n",
              "      <td>Robot</td>\n",
              "      <td>Passing Butter Robot</td>\n",
              "      <td>Genderless</td>\n",
              "      <td>{'name': 'Earth (Replacement Dimension)', 'url...</td>\n",
              "      <td>{'name': 'Earth (Replacement Dimension)', 'url...</td>\n",
              "      <td>https://rickandmortyapi.com/api/character/avat...</td>\n",
              "      <td>['https://rickandmortyapi.com/api/episode/9']</td>\n",
              "      <td>https://rickandmortyapi.com/api/character/826</td>\n",
              "      <td>2021-11-02T17:24:37.458Z</td>\n",
              "    </tr>\n",
              "  </tbody>\n",
              "</table>\n",
              "</div>"
            ],
            "text/plain": [
              "     Unnamed: 0   id          name   status species                  type  \\\n",
              "824         824  825   Young Jerry  unknown   Human                   NaN   \n",
              "825         825  826  Butter Robot    Alive   Robot  Passing Butter Robot   \n",
              "\n",
              "         gender                                             origin  \\\n",
              "824        Male  {'name': 'Earth (Unknown dimension)', 'url': '...   \n",
              "825  Genderless  {'name': 'Earth (Replacement Dimension)', 'url...   \n",
              "\n",
              "                                              location  \\\n",
              "824  {'name': 'Earth (Unknown dimension)', 'url': '...   \n",
              "825  {'name': 'Earth (Replacement Dimension)', 'url...   \n",
              "\n",
              "                                                 image  \\\n",
              "824  https://rickandmortyapi.com/api/character/avat...   \n",
              "825  https://rickandmortyapi.com/api/character/avat...   \n",
              "\n",
              "                                            episode  \\\n",
              "824  ['https://rickandmortyapi.com/api/episode/51']   \n",
              "825   ['https://rickandmortyapi.com/api/episode/9']   \n",
              "\n",
              "                                               url                   created  \n",
              "824  https://rickandmortyapi.com/api/character/825  2021-11-02T17:20:14.305Z  \n",
              "825  https://rickandmortyapi.com/api/character/826  2021-11-02T17:24:37.458Z  "
            ]
          },
          "execution_count": 34,
          "metadata": {},
          "output_type": "execute_result"
        }
      ],
      "source": [
        "# your code here "
      ]
    },
    {
      "cell_type": "markdown",
      "metadata": {
        "id": "0MRSKSd7lXen"
      },
      "source": [
        "List out the columns"
      ]
    },
    {
      "cell_type": "code",
      "execution_count": 35,
      "metadata": {
        "colab": {
          "base_uri": "https://localhost:8080/"
        },
        "id": "-iJx_Cbpk1Cx",
        "outputId": "ce7dcf6c-7b4a-4a02-8e52-948915b236c0"
      },
      "outputs": [
        {
          "data": {
            "text/plain": [
              "Index(['Unnamed: 0', 'id', 'name', 'status', 'species', 'type', 'gender',\n",
              "       'origin', 'location', 'image', 'episode', 'url', 'created'],\n",
              "      dtype='object')"
            ]
          },
          "execution_count": 35,
          "metadata": {},
          "output_type": "execute_result"
        }
      ],
      "source": [
        "# your code here "
      ]
    },
    {
      "cell_type": "markdown",
      "metadata": {
        "id": "_EtwPp2HldyO"
      },
      "source": [
        "What is the shape of the dataframe? (rows and columns)"
      ]
    },
    {
      "cell_type": "code",
      "execution_count": 36,
      "metadata": {
        "colab": {
          "base_uri": "https://localhost:8080/"
        },
        "id": "fxHeLo6Ck3-v",
        "outputId": "07276a20-0016-4889-9d81-b4a01672e6bd"
      },
      "outputs": [
        {
          "data": {
            "text/plain": [
              "(826, 13)"
            ]
          },
          "execution_count": 36,
          "metadata": {},
          "output_type": "execute_result"
        }
      ],
      "source": [
        "# your code here "
      ]
    },
    {
      "cell_type": "markdown",
      "metadata": {
        "id": "6X10SivClxF5"
      },
      "source": [
        "What are the data types?"
      ]
    },
    {
      "cell_type": "code",
      "execution_count": 38,
      "metadata": {
        "colab": {
          "base_uri": "https://localhost:8080/"
        },
        "id": "5tTZiaPTk9lF",
        "outputId": "de9f9d0e-0d97-4186-f50a-47567527ad27"
      },
      "outputs": [
        {
          "name": "stdout",
          "output_type": "stream",
          "text": [
            "<class 'pandas.core.frame.DataFrame'>\n",
            "RangeIndex: 826 entries, 0 to 825\n",
            "Data columns (total 13 columns):\n",
            " #   Column      Non-Null Count  Dtype \n",
            "---  ------      --------------  ----- \n",
            " 0   Unnamed: 0  826 non-null    int64 \n",
            " 1   id          826 non-null    int64 \n",
            " 2   name        826 non-null    object\n",
            " 3   status      826 non-null    object\n",
            " 4   species     826 non-null    object\n",
            " 5   type        425 non-null    object\n",
            " 6   gender      826 non-null    object\n",
            " 7   origin      826 non-null    object\n",
            " 8   location    826 non-null    object\n",
            " 9   image       826 non-null    object\n",
            " 10  episode     826 non-null    object\n",
            " 11  url         826 non-null    object\n",
            " 12  created     826 non-null    object\n",
            "dtypes: int64(2), object(11)\n",
            "memory usage: 84.0+ KB\n"
          ]
        }
      ],
      "source": [
        "# your code here "
      ]
    },
    {
      "cell_type": "markdown",
      "metadata": {
        "id": "X52h-IsUl4mm"
      },
      "source": [
        "# cleaning"
      ]
    },
    {
      "cell_type": "markdown",
      "metadata": {
        "id": "DWPfyCDZmJFh"
      },
      "source": [
        "lets drop some columns we don't need"
      ]
    },
    {
      "cell_type": "code",
      "execution_count": null,
      "metadata": {
        "colab": {
          "base_uri": "https://localhost:8080/",
          "height": 112
        },
        "id": "jNfEeTG8l-E4",
        "outputId": "792c7e63-b8dc-4c35-c697-af4ddb4682eb"
      },
      "outputs": [
        {
          "data": {
            "text/html": [
              "<div>\n",
              "<style scoped>\n",
              "    .dataframe tbody tr th:only-of-type {\n",
              "        vertical-align: middle;\n",
              "    }\n",
              "\n",
              "    .dataframe tbody tr th {\n",
              "        vertical-align: top;\n",
              "    }\n",
              "\n",
              "    .dataframe thead th {\n",
              "        text-align: right;\n",
              "    }\n",
              "</style>\n",
              "<table border=\"1\" class=\"dataframe\">\n",
              "  <thead>\n",
              "    <tr style=\"text-align: right;\">\n",
              "      <th></th>\n",
              "      <th>Unnamed: 0</th>\n",
              "      <th>id</th>\n",
              "      <th>name</th>\n",
              "      <th>status</th>\n",
              "      <th>species</th>\n",
              "      <th>type</th>\n",
              "      <th>gender</th>\n",
              "      <th>created</th>\n",
              "    </tr>\n",
              "  </thead>\n",
              "  <tbody>\n",
              "    <tr>\n",
              "      <th>0</th>\n",
              "      <td>0</td>\n",
              "      <td>1</td>\n",
              "      <td>Rick Sanchez</td>\n",
              "      <td>Alive</td>\n",
              "      <td>Human</td>\n",
              "      <td>NaN</td>\n",
              "      <td>Male</td>\n",
              "      <td>2017-11-04T18:48:46.250Z</td>\n",
              "    </tr>\n",
              "    <tr>\n",
              "      <th>1</th>\n",
              "      <td>1</td>\n",
              "      <td>2</td>\n",
              "      <td>Morty Smith</td>\n",
              "      <td>Alive</td>\n",
              "      <td>Human</td>\n",
              "      <td>NaN</td>\n",
              "      <td>Male</td>\n",
              "      <td>2017-11-04T18:50:21.651Z</td>\n",
              "    </tr>\n",
              "  </tbody>\n",
              "</table>\n",
              "</div>"
            ],
            "text/plain": [
              "   Unnamed: 0  id          name status species type gender  \\\n",
              "0           0   1  Rick Sanchez  Alive   Human  NaN   Male   \n",
              "1           1   2   Morty Smith  Alive   Human  NaN   Male   \n",
              "\n",
              "                    created  \n",
              "0  2017-11-04T18:48:46.250Z  \n",
              "1  2017-11-04T18:50:21.651Z  "
            ]
          },
          "execution_count": 9,
          "metadata": {},
          "output_type": "execute_result"
        }
      ],
      "source": [
        "# List of columns to drop\n",
        "columns_to_drop = ['origin', 'location', 'image', 'episode', 'url']\n",
        "\n",
        "# Drop the specified columns\n",
        "df = df.drop(columns=columns_to_drop)\n",
        "\n",
        "df.head(2)\n"
      ]
    },
    {
      "cell_type": "markdown",
      "metadata": {
        "id": "oFQELe6PnBUM"
      },
      "source": [
        "convert created column to date time"
      ]
    },
    {
      "cell_type": "code",
      "execution_count": null,
      "metadata": {
        "id": "I1PKpx-wnHEZ"
      },
      "outputs": [],
      "source": [
        "df['created'] = pd.to_datetime(df['created'])"
      ]
    },
    {
      "cell_type": "markdown",
      "metadata": {
        "id": "CosRyYaanRHH"
      },
      "source": [
        "lets convert gender to a category."
      ]
    },
    {
      "cell_type": "code",
      "execution_count": 39,
      "metadata": {
        "colab": {
          "base_uri": "https://localhost:8080/"
        },
        "id": "BaIMkVTXnKkm",
        "outputId": "2f117c66-c448-403a-bdd6-2145f05e5ac2"
      },
      "outputs": [
        {
          "name": "stdout",
          "output_type": "stream",
          "text": [
            "<class 'pandas.core.frame.DataFrame'>\n",
            "RangeIndex: 826 entries, 0 to 825\n",
            "Data columns (total 13 columns):\n",
            " #   Column      Non-Null Count  Dtype \n",
            "---  ------      --------------  ----- \n",
            " 0   Unnamed: 0  826 non-null    int64 \n",
            " 1   id          826 non-null    int64 \n",
            " 2   name        826 non-null    object\n",
            " 3   status      826 non-null    object\n",
            " 4   species     826 non-null    object\n",
            " 5   type        425 non-null    object\n",
            " 6   gender      826 non-null    bool  \n",
            " 7   origin      826 non-null    object\n",
            " 8   location    826 non-null    object\n",
            " 9   image       826 non-null    object\n",
            " 10  episode     826 non-null    object\n",
            " 11  url         826 non-null    object\n",
            " 12  created     826 non-null    object\n",
            "dtypes: bool(1), int64(2), object(10)\n",
            "memory usage: 78.4+ KB\n"
          ]
        }
      ],
      "source": [
        "df['gender'] = df['gender'].astype('bool')\n",
        "df.info()"
      ]
    },
    {
      "cell_type": "markdown",
      "metadata": {
        "id": "TfRWGSK8ocDr"
      },
      "source": [
        "# plot"
      ]
    },
    {
      "cell_type": "markdown",
      "metadata": {
        "id": "qO6jTUYnqjpv"
      },
      "source": [
        "lets do a quick plot of genders"
      ]
    },
    {
      "cell_type": "code",
      "execution_count": null,
      "metadata": {
        "colab": {
          "base_uri": "https://localhost:8080/",
          "height": 406
        },
        "id": "2fbhtgj_oePy",
        "outputId": "f087c852-0f1f-4c35-d9bf-584dd29b738a"
      },
      "outputs": [
        {
          "data": {
            "image/png": "[encoded data removed]",
            "text/plain": [
              "<Figure size 432x288 with 1 Axes>"
            ]
          },
          "metadata": {},
          "output_type": "display_data"
        }
      ],
      "source": [
        "df['gender'].value_counts().plot.pie();"
      ]
    },
    {
      "cell_type": "markdown",
      "metadata": {
        "id": "vM1r9TQyqsKg"
      },
      "source": [
        "Make a matplotlib plot of the number of characters created in a month"
      ]
    },
    {
      "cell_type": "code",
      "execution_count": null,
      "metadata": {
        "colab": {
          "base_uri": "https://localhost:8080/",
          "height": 146
        },
        "id": "7qS18XtLpq3X",
        "outputId": "4e6372de-a9e6-41dd-c9a9-e3061362ff2b"
      },
      "outputs": [
        {
          "name": "stderr",
          "output_type": "stream",
          "text": [
            "/var/folders/t5/sxblnh9s6r744cwj7y86ts1r0000gn/T/ipykernel_5729/3007797359.py:2: UserWarning: Converting to PeriodArray/Index representation will drop timezone information.\n",
            "  df['creation_month'] = df['created'].dt.to_period('M')\n"
          ]
        },
        {
          "data": {
            "text/html": [
              "<div>\n",
              "<style scoped>\n",
              "    .dataframe tbody tr th:only-of-type {\n",
              "        vertical-align: middle;\n",
              "    }\n",
              "\n",
              "    .dataframe tbody tr th {\n",
              "        vertical-align: top;\n",
              "    }\n",
              "\n",
              "    .dataframe thead th {\n",
              "        text-align: right;\n",
              "    }\n",
              "</style>\n",
              "<table border=\"1\" class=\"dataframe\">\n",
              "  <thead>\n",
              "    <tr style=\"text-align: right;\">\n",
              "      <th></th>\n",
              "      <th>Unnamed: 0</th>\n",
              "      <th>id</th>\n",
              "      <th>name</th>\n",
              "      <th>status</th>\n",
              "      <th>species</th>\n",
              "      <th>type</th>\n",
              "      <th>gender</th>\n",
              "      <th>created</th>\n",
              "      <th>creation_month</th>\n",
              "    </tr>\n",
              "  </thead>\n",
              "  <tbody>\n",
              "    <tr>\n",
              "      <th>0</th>\n",
              "      <td>0</td>\n",
              "      <td>1</td>\n",
              "      <td>Rick Sanchez</td>\n",
              "      <td>Alive</td>\n",
              "      <td>Human</td>\n",
              "      <td>NaN</td>\n",
              "      <td>Male</td>\n",
              "      <td>2017-11-04 18:48:46.250000+00:00</td>\n",
              "      <td>2017-11</td>\n",
              "    </tr>\n",
              "    <tr>\n",
              "      <th>1</th>\n",
              "      <td>1</td>\n",
              "      <td>2</td>\n",
              "      <td>Morty Smith</td>\n",
              "      <td>Alive</td>\n",
              "      <td>Human</td>\n",
              "      <td>NaN</td>\n",
              "      <td>Male</td>\n",
              "      <td>2017-11-04 18:50:21.651000+00:00</td>\n",
              "      <td>2017-11</td>\n",
              "    </tr>\n",
              "  </tbody>\n",
              "</table>\n",
              "</div>"
            ],
            "text/plain": [
              "   Unnamed: 0  id          name status species type gender  \\\n",
              "0           0   1  Rick Sanchez  Alive   Human  NaN   Male   \n",
              "1           1   2   Morty Smith  Alive   Human  NaN   Male   \n",
              "\n",
              "                           created creation_month  \n",
              "0 2017-11-04 18:48:46.250000+00:00        2017-11  \n",
              "1 2017-11-04 18:50:21.651000+00:00        2017-11  "
            ]
          },
          "execution_count": 13,
          "metadata": {},
          "output_type": "execute_result"
        }
      ],
      "source": [
        "# Create a new column 'creation_month' with the month information\n",
        "df['creation_month'] = df['created'].dt.to_period('M')\n",
        "\n",
        "# Group by month and count the number of creations\n",
        "monthly_counts = df['creation_month'].value_counts().sort_index()\n",
        "\n",
        "#checks the code is correct\n",
        "df.head(2)"
      ]
    },
    {
      "cell_type": "code",
      "execution_count": null,
      "metadata": {
        "colab": {
          "base_uri": "https://localhost:8080/",
          "height": 515
        },
        "id": "cXNLaXYKqCZ4",
        "outputId": "ff021e20-b614-4c7a-9f04-705a02455fd4"
      },
      "outputs": [
        {
          "data": {
            "image/png": "[encoded data removed]",
            "text/plain": [
              "<Figure size 432x288 with 1 Axes>"
            ]
          },
          "metadata": {
            "needs_background": "light"
          },
          "output_type": "display_data"
        }
      ],
      "source": [
        "# Plot the data\n",
        "monthly_counts.plot(kind='bar', color='skyblue')\n",
        "plt.xlabel('Creation Month')\n",
        "plt.ylabel('Number of Creations')\n",
        "plt.title('Number of Creations Per Month')\n",
        "plt.show()"
      ]
    },
    {
      "cell_type": "markdown",
      "metadata": {
        "id": "zgwekBGljF8M"
      },
      "source": [
        "# SQL Connect"
      ]
    },
    {
      "cell_type": "markdown",
      "metadata": {},
      "source": [
        "We will have to convery data types to connect to SQLite"
      ]
    },
    {
      "cell_type": "code",
      "execution_count": null,
      "metadata": {},
      "outputs": [
        {
          "name": "stdout",
          "output_type": "stream",
          "text": [
            "<class 'pandas.core.frame.DataFrame'>\n",
            "RangeIndex: 826 entries, 0 to 825\n",
            "Data columns (total 9 columns):\n",
            " #   Column          Non-Null Count  Dtype              \n",
            "---  ------          --------------  -----              \n",
            " 0   Unnamed: 0      826 non-null    int64              \n",
            " 1   id              826 non-null    int64              \n",
            " 2   name            826 non-null    object             \n",
            " 3   status          826 non-null    object             \n",
            " 4   species         826 non-null    object             \n",
            " 5   type            425 non-null    object             \n",
            " 6   gender          826 non-null    category           \n",
            " 7   created         826 non-null    datetime64[ns, UTC]\n",
            " 8   creation_month  826 non-null    period[M]          \n",
            "dtypes: category(1), datetime64[ns, UTC](1), int64(2), object(4), period[M](1)\n",
            "memory usage: 52.8+ KB\n"
          ]
        }
      ],
      "source": [
        "df.info()"
      ]
    },
    {
      "cell_type": "code",
      "execution_count": null,
      "metadata": {
        "colab": {
          "base_uri": "https://localhost:8080/",
          "height": 391
        },
        "id": "1NLmlVmejE8p",
        "outputId": "2146854d-67b0-4d93-95f3-b539256879ce"
      },
      "outputs": [],
      "source": [
        "# Convert 'created' to string\n",
        "df['created'] = pd.to_datetime(df['created']).astype(str)\n",
        "\n",
        "# Convert 'creation_month' to string\n",
        "df['creation_month'] = df['creation_month'].astype(str)\n",
        "\n",
        "# Save DataFrame to the existing SQLite connection with explicit data type specification\n",
        "dtype_mapping = {\n",
        "    'Unnamed: 0': 'INTEGER',\n",
        "    'id': 'INTEGER',\n",
        "    'name': 'TEXT',\n",
        "    'status': 'TEXT',\n",
        "    'species': 'TEXT',\n",
        "    'type': 'TEXT',\n",
        "    'gender': 'TEXT',\n",
        "    'created': 'TEXT',\n",
        "    'creation_month': 'TEXT'\n",
        "}\n",
        "\n",
        "conn = connect(':memory:')\n",
        "# create tables\n",
        "df.to_sql('df', conn)\n",
        "# convenient function\n",
        "def sql(a_string):\n",
        "    return(pd.read_sql(a_string, conn))"
      ]
    },
    {
      "cell_type": "markdown",
      "metadata": {},
      "source": [
        "find the number of rows "
      ]
    },
    {
      "cell_type": "code",
      "execution_count": null,
      "metadata": {},
      "outputs": [
        {
          "data": {
            "text/html": [
              "<div>\n",
              "<style scoped>\n",
              "    .dataframe tbody tr th:only-of-type {\n",
              "        vertical-align: middle;\n",
              "    }\n",
              "\n",
              "    .dataframe tbody tr th {\n",
              "        vertical-align: top;\n",
              "    }\n",
              "\n",
              "    .dataframe thead th {\n",
              "        text-align: right;\n",
              "    }\n",
              "</style>\n",
              "<table border=\"1\" class=\"dataframe\">\n",
              "  <thead>\n",
              "    <tr style=\"text-align: right;\">\n",
              "      <th></th>\n",
              "      <th>row_count</th>\n",
              "    </tr>\n",
              "  </thead>\n",
              "  <tbody>\n",
              "    <tr>\n",
              "      <th>0</th>\n",
              "      <td>826</td>\n",
              "    </tr>\n",
              "  </tbody>\n",
              "</table>\n",
              "</div>"
            ],
            "text/plain": [
              "   row_count\n",
              "0        826"
            ]
          },
          "execution_count": 17,
          "metadata": {},
          "output_type": "execute_result"
        }
      ],
      "source": [
        "sql(\"\"\"SELECT COUNT(*) \n",
        "    AS row_count \n",
        "    FROM df;\"\"\")"
      ]
    },
    {
      "cell_type": "markdown",
      "metadata": {},
      "source": [
        "query to find the name and species of all characters who are alive and male. "
      ]
    },
    {
      "cell_type": "code",
      "execution_count": null,
      "metadata": {
        "id": "ecqAFETKrLgP"
      },
      "outputs": [
        {
          "data": {
            "text/html": [
              "<div>\n",
              "<style scoped>\n",
              "    .dataframe tbody tr th:only-of-type {\n",
              "        vertical-align: middle;\n",
              "    }\n",
              "\n",
              "    .dataframe tbody tr th {\n",
              "        vertical-align: top;\n",
              "    }\n",
              "\n",
              "    .dataframe thead th {\n",
              "        text-align: right;\n",
              "    }\n",
              "</style>\n",
              "<table border=\"1\" class=\"dataframe\">\n",
              "  <thead>\n",
              "    <tr style=\"text-align: right;\">\n",
              "      <th></th>\n",
              "      <th>name</th>\n",
              "      <th>species</th>\n",
              "    </tr>\n",
              "  </thead>\n",
              "  <tbody>\n",
              "    <tr>\n",
              "      <th>0</th>\n",
              "      <td>Rick Sanchez</td>\n",
              "      <td>Human</td>\n",
              "    </tr>\n",
              "    <tr>\n",
              "      <th>1</th>\n",
              "      <td>Morty Smith</td>\n",
              "      <td>Human</td>\n",
              "    </tr>\n",
              "    <tr>\n",
              "      <th>2</th>\n",
              "      <td>Jerry Smith</td>\n",
              "      <td>Human</td>\n",
              "    </tr>\n",
              "    <tr>\n",
              "      <th>3</th>\n",
              "      <td>Antenna Morty</td>\n",
              "      <td>Human</td>\n",
              "    </tr>\n",
              "    <tr>\n",
              "      <th>4</th>\n",
              "      <td>Armagheadon</td>\n",
              "      <td>Alien</td>\n",
              "    </tr>\n",
              "    <tr>\n",
              "      <th>...</th>\n",
              "      <td>...</td>\n",
              "      <td>...</td>\n",
              "    </tr>\n",
              "    <tr>\n",
              "      <th>304</th>\n",
              "      <td>Palicki</td>\n",
              "      <td>Alien</td>\n",
              "    </tr>\n",
              "    <tr>\n",
              "      <th>305</th>\n",
              "      <td>Sarge</td>\n",
              "      <td>Alien</td>\n",
              "    </tr>\n",
              "    <tr>\n",
              "      <th>306</th>\n",
              "      <td>Ferkusian</td>\n",
              "      <td>Alien</td>\n",
              "    </tr>\n",
              "    <tr>\n",
              "      <th>307</th>\n",
              "      <td>Baby Mouse Skin Morty</td>\n",
              "      <td>Human</td>\n",
              "    </tr>\n",
              "    <tr>\n",
              "      <th>308</th>\n",
              "      <td>Crow Scare</td>\n",
              "      <td>Humanoid</td>\n",
              "    </tr>\n",
              "  </tbody>\n",
              "</table>\n",
              "<p>309 rows × 2 columns</p>\n",
              "</div>"
            ],
            "text/plain": [
              "                      name   species\n",
              "0             Rick Sanchez     Human\n",
              "1              Morty Smith     Human\n",
              "2              Jerry Smith     Human\n",
              "3            Antenna Morty     Human\n",
              "4              Armagheadon     Alien\n",
              "..                     ...       ...\n",
              "304                Palicki     Alien\n",
              "305                  Sarge     Alien\n",
              "306              Ferkusian     Alien\n",
              "307  Baby Mouse Skin Morty     Human\n",
              "308             Crow Scare  Humanoid\n",
              "\n",
              "[309 rows x 2 columns]"
            ]
          },
          "execution_count": 18,
          "metadata": {},
          "output_type": "execute_result"
        }
      ],
      "source": [
        "sql(\"\"\"SELECT name, species\n",
        "    FROM df\n",
        "    WHERE status = 'Alive' AND gender = 'Male';\"\"\")"
      ]
    },
    {
      "cell_type": "markdown",
      "metadata": {},
      "source": [
        "find the numbers of creations per month"
      ]
    },
    {
      "cell_type": "code",
      "execution_count": null,
      "metadata": {},
      "outputs": [
        {
          "data": {
            "text/html": [
              "<div>\n",
              "<style scoped>\n",
              "    .dataframe tbody tr th:only-of-type {\n",
              "        vertical-align: middle;\n",
              "    }\n",
              "\n",
              "    .dataframe tbody tr th {\n",
              "        vertical-align: top;\n",
              "    }\n",
              "\n",
              "    .dataframe thead th {\n",
              "        text-align: right;\n",
              "    }\n",
              "</style>\n",
              "<table border=\"1\" class=\"dataframe\">\n",
              "  <thead>\n",
              "    <tr style=\"text-align: right;\">\n",
              "      <th></th>\n",
              "      <th>creation_month</th>\n",
              "      <th>creations_per_month</th>\n",
              "    </tr>\n",
              "  </thead>\n",
              "  <tbody>\n",
              "    <tr>\n",
              "      <th>0</th>\n",
              "      <td>2017-11</td>\n",
              "      <td>88</td>\n",
              "    </tr>\n",
              "    <tr>\n",
              "      <th>1</th>\n",
              "      <td>2017-12</td>\n",
              "      <td>212</td>\n",
              "    </tr>\n",
              "    <tr>\n",
              "      <th>2</th>\n",
              "      <td>2018-01</td>\n",
              "      <td>94</td>\n",
              "    </tr>\n",
              "    <tr>\n",
              "      <th>3</th>\n",
              "      <td>2018-04</td>\n",
              "      <td>42</td>\n",
              "    </tr>\n",
              "    <tr>\n",
              "      <th>4</th>\n",
              "      <td>2018-05</td>\n",
              "      <td>57</td>\n",
              "    </tr>\n",
              "    <tr>\n",
              "      <th>5</th>\n",
              "      <td>2020-05</td>\n",
              "      <td>98</td>\n",
              "    </tr>\n",
              "    <tr>\n",
              "      <th>6</th>\n",
              "      <td>2020-08</td>\n",
              "      <td>80</td>\n",
              "    </tr>\n",
              "    <tr>\n",
              "      <th>7</th>\n",
              "      <td>2021-10</td>\n",
              "      <td>121</td>\n",
              "    </tr>\n",
              "    <tr>\n",
              "      <th>8</th>\n",
              "      <td>2021-11</td>\n",
              "      <td>34</td>\n",
              "    </tr>\n",
              "  </tbody>\n",
              "</table>\n",
              "</div>"
            ],
            "text/plain": [
              "  creation_month  creations_per_month\n",
              "0        2017-11                   88\n",
              "1        2017-12                  212\n",
              "2        2018-01                   94\n",
              "3        2018-04                   42\n",
              "4        2018-05                   57\n",
              "5        2020-05                   98\n",
              "6        2020-08                   80\n",
              "7        2021-10                  121\n",
              "8        2021-11                   34"
            ]
          },
          "execution_count": 19,
          "metadata": {},
          "output_type": "execute_result"
        }
      ],
      "source": [
        "sql(\"\"\"SELECT creation_month, \n",
        "    COUNT(*) \n",
        "    AS creations_per_month\n",
        "    FROM df\n",
        "    GROUP BY creation_month;\"\"\")"
      ]
    },
    {
      "cell_type": "markdown",
      "metadata": {},
      "source": [
        "plot the last query and see if it matches the pandas plot. "
      ]
    },
    {
      "cell_type": "code",
      "execution_count": null,
      "metadata": {},
      "outputs": [
        {
          "data": {
            "image/png": "[encoded data removed]",
            "text/plain": [
              "<Figure size 432x288 with 1 Axes>"
            ]
          },
          "metadata": {
            "needs_background": "light"
          },
          "output_type": "display_data"
        }
      ],
      "source": [
        "sql(\"\"\"SELECT creation_month, \n",
        "    COUNT(*) \n",
        "    AS creations_per_month\n",
        "    FROM df\n",
        "    GROUP BY creation_month;\"\"\").plot.bar(x='creation_month');"
      ]
    }
  ],
  "metadata": {
    "colab": {
      "authorship_tag": "ABX9TyPtXtGHKis/I/z9yj36I5D3",
      "include_colab_link": true,
      "provenance": []
    },
    "kernelspec": {
      "display_name": "Python 3",
      "name": "python3"
    },
    "language_info": {
      "codemirror_mode": {
        "name": "ipython",
        "version": 3
      },
      "file_extension": ".py",
      "mimetype": "text/x-python",
      "name": "python",
      "nbconvert_exporter": "python",
      "pygments_lexer": "ipython3",
      "version": "3.9.12"
    }
  },
  "nbformat": 4,
  "nbformat_minor": 0
}
